{
  "cells": [
    {
      "cell_type": "markdown",
      "metadata": {
        "id": "view-in-github",
        "colab_type": "text"
      },
      "source": [
        "<a href=\"https://colab.research.google.com/github/sushmana/Crypto-Lab/blob/master/Music_Recommendation_System.ipynb\" target=\"_parent\"><img src=\"https://colab.research.google.com/assets/colab-badge.svg\" alt=\"Open In Colab\"/></a>"
      ]
    },
    {
      "cell_type": "markdown",
      "metadata": {
        "id": "7PUwcxAO_6v1"
      },
      "source": [
        "# Music recommendation System"
      ]
    },
    {
      "cell_type": "raw",
      "metadata": {
        "id": "qnR_84Rs_6wA"
      },
      "source": [
        "-------------\n",
        "Dataset used:\n",
        "-------------\n",
        "Million Songs Dataset\n",
        "Source:https://www.kaggle.com/anuragbanerjee/million-song-data-set-subset?select=song_data.csv\n",
        "\n",
        "The current notebook uses a subset of the above data containing 10,000 songs."
      ]
    },
    {
      "cell_type": "code",
      "execution_count": null,
      "metadata": {
        "jupyter": {
          "outputs_hidden": false
        },
        "id": "ygTfHgvQ_6wC"
      },
      "outputs": [],
      "source": [
        "%matplotlib inline\n",
        "\n",
        "import numpy as np\n",
        "import pandas as pd\n",
        "import Recommenders as Recommenders\n",
        "from sklearn.model_selection import train_test_split\n",
        "import time\n",
        "import joblib\n",
        "import Evaluation as Evaluation"
      ]
    },
    {
      "cell_type": "code",
      "execution_count": null,
      "metadata": {
        "id": "5gFVDH1v_6wF"
      },
      "outputs": [],
      "source": [
        ""
      ]
    },
    {
      "cell_type": "code",
      "execution_count": null,
      "metadata": {
        "scrolled": false,
        "id": "Go4CIASi_6wF",
        "outputId": "2b100b22-8ab3-443f-94a1-3f2fc7b5db03"
      },
      "outputs": [
        {
          "name": "stdout",
          "output_type": "stream",
          "text": [
            "-------------New Delhi-------------\n",
            "City ID: 1261481\n",
            "Temperature: 292.24\n",
            "Feel Like: 290.99\n",
            "Humidity: 30\n",
            "Pressure: 1017\n",
            "Weather Report: smoke\n",
            "Wind Speed: 2.06\n",
            "Time Zone: 19800\n"
          ]
        }
      ],
      "source": [
        "# importing modules\n",
        "import requests, json\n",
        "import urllib.parse\n",
        "# API base URL\n",
        "BASE_URL = \"https://api.openweathermap.org/data/2.5/weather?\"\n",
        "\n",
        "# City Name\n",
        "CITY = \"New Delhi\"\n",
        "\n",
        "# Your API key\n",
        "API_KEY = \"67c92bc41548d686bf46131d3f0fa3bd\"\n",
        "\n",
        "# updating the URL\n",
        "URL = BASE_URL + \"q=\" + urllib.parse.quote(CITY) + \"&appid=\" + API_KEY\n",
        "# Sending HTTP request\n",
        "response = requests.get(URL)\n",
        "\n",
        "# checking the status code of the request\n",
        "if response.status_code == 200:\n",
        "    \n",
        "   # retrieving data in the json format\n",
        "   data = response.json()\n",
        "   \n",
        "   # take the main dict block\n",
        "   main = data['main']\n",
        "   \n",
        "   # getting temperature\n",
        "   temperature = main['temp']\n",
        "   # getting feel like\n",
        "   temp_feel_like = main['feels_like']  \n",
        "   # getting the humidity\n",
        "   humidity = main['humidity']\n",
        "   # getting the pressure\n",
        "   pressure = main['pressure']\n",
        "   \n",
        "   # weather report\n",
        "   weather_report = data['weather']\n",
        "   # wind report\n",
        "   wind_report = data['wind']\n",
        "   \n",
        "   print(f\"{CITY:-^35}\")\n",
        "   print(f\"City ID: {data['id']}\")   \n",
        "   print(f\"Temperature: {temperature}\")\n",
        "   print(f\"Feel Like: {temp_feel_like}\")  \n",
        "   print(f\"Humidity: {humidity}\")\n",
        "   print(f\"Pressure: {pressure}\")\n",
        "   print(f\"Weather Report: {weather_report[0]['description']}\")\n",
        "   print(f\"Wind Speed: {wind_report['speed']}\")\n",
        "   print(f\"Time Zone: {data['timezone']}\")\n",
        "else:\n",
        "   # showing the error message\n",
        "   print(\"Error in the HTTP request\")"
      ]
    },
    {
      "cell_type": "code",
      "execution_count": null,
      "metadata": {
        "id": "KCmW1yUN_6wI"
      },
      "outputs": [],
      "source": [
        ""
      ]
    },
    {
      "cell_type": "code",
      "execution_count": null,
      "metadata": {
        "id": "1LphyfPv_6wJ"
      },
      "outputs": [],
      "source": [
        "import csv\n",
        "import random\n",
        "from csv import writer\n",
        "from csv import reader\n",
        "default_text = 'Some Text'\n",
        "# Open the input_file in read mode and output_file in write mode\n",
        "with open('song_data.csv', 'r',encoding='utf-8') as read_obj, \\\n",
        "        open('output_data.csv', 'w', newline='',encoding='utf-8') as write_obj:\n",
        "    # Create a csv.reader object from the input file object\n",
        "    csv_reader = reader(read_obj)\n",
        "    # Create a csv.writer object from the output file object\n",
        "    csv_writer = writer(write_obj)\n",
        "    # Read each row of the input csv file as list\n",
        "    for row in csv_reader:\n",
        "        r=random.randint(273,310) # Temperature in Fahrenheit\n",
        "        # Append the default text in the row / list\n",
        "        row.append(r)\n",
        "        # Add the updated row / list to the output file\n",
        "        csv_writer.writerow(row) "
      ]
    },
    {
      "cell_type": "markdown",
      "metadata": {
        "id": "vAsyJocI_6wK"
      },
      "source": [
        "# Load music data"
      ]
    },
    {
      "cell_type": "code",
      "execution_count": null,
      "metadata": {
        "jupyter": {
          "outputs_hidden": false
        },
        "scrolled": true,
        "id": "f0Yk8FJP_6wL",
        "outputId": "7d4bb9ef-69c1-4778-f513-bbc155f30893"
      },
      "outputs": [
        {
          "name": "stdout",
          "output_type": "stream",
          "text": [
            "                                    user_id             song_id  listen_count\n",
            "0  b80344d063b5ccb3212f76538f3d9e43d87dca9e  SOAKIMP12A8C130995             1\n",
            "1  b80344d063b5ccb3212f76538f3d9e43d87dca9e  SOBBMDR12A8C13253B             2\n",
            "2  b80344d063b5ccb3212f76538f3d9e43d87dca9e  SOBXHDL12A81C204C0             1\n",
            "3  b80344d063b5ccb3212f76538f3d9e43d87dca9e  SOBYHAJ12A6701BF1D             1\n",
            "4  b80344d063b5ccb3212f76538f3d9e43d87dca9e  SODACBL12A8C13C273             1\n",
            "              song_id              title  \\\n",
            "0  SOQMMHC12AB0180CB8       Silent Night   \n",
            "1  SOVFVAK12A8C1350D9        Tanssi vaan   \n",
            "2  SOGTUKN12AB017F4F1  No One Could Ever   \n",
            "3  SOBNYVR12A8C13558C      Si Vos Querés   \n",
            "4  SOHSBXH12A8C13B0DF   Tangle Of Aspens   \n",
            "\n",
            "                                release       artist_name  year  temperature  \n",
            "0                 Monster Ballads X-Mas  Faster Pussy cat  2003          294  \n",
            "1                           Karkuteillä  Karkkiautomaatti  1995          291  \n",
            "2                                Butter    Hudson Mohawke  2006          309  \n",
            "3                               De Culo       Yerba Brava  2003          306  \n",
            "4  Rene Ablaze Presents Winter Sessions        Der Mystic     0          301  \n"
          ]
        },
        {
          "data": {
            "text/html": [
              "<div>\n",
              "<style scoped>\n",
              "    .dataframe tbody tr th:only-of-type {\n",
              "        vertical-align: middle;\n",
              "    }\n",
              "\n",
              "    .dataframe tbody tr th {\n",
              "        vertical-align: top;\n",
              "    }\n",
              "\n",
              "    .dataframe thead th {\n",
              "        text-align: right;\n",
              "    }\n",
              "</style>\n",
              "<table border=\"1\" class=\"dataframe\">\n",
              "  <thead>\n",
              "    <tr style=\"text-align: right;\">\n",
              "      <th></th>\n",
              "      <th>user_id</th>\n",
              "      <th>song_id</th>\n",
              "      <th>listen_count</th>\n",
              "      <th>title</th>\n",
              "      <th>release</th>\n",
              "      <th>artist_name</th>\n",
              "      <th>year</th>\n",
              "      <th>temperature</th>\n",
              "    </tr>\n",
              "  </thead>\n",
              "  <tbody>\n",
              "    <tr>\n",
              "      <th>0</th>\n",
              "      <td>b80344d063b5ccb3212f76538f3d9e43d87dca9e</td>\n",
              "      <td>SOAKIMP12A8C130995</td>\n",
              "      <td>1</td>\n",
              "      <td>The Cove</td>\n",
              "      <td>Thicker Than Water</td>\n",
              "      <td>Jack Johnson</td>\n",
              "      <td>0</td>\n",
              "      <td>308</td>\n",
              "    </tr>\n",
              "    <tr>\n",
              "      <th>1</th>\n",
              "      <td>b80344d063b5ccb3212f76538f3d9e43d87dca9e</td>\n",
              "      <td>SOBBMDR12A8C13253B</td>\n",
              "      <td>2</td>\n",
              "      <td>Entre Dos Aguas</td>\n",
              "      <td>Flamenco Para Niños</td>\n",
              "      <td>Paco De Lucia</td>\n",
              "      <td>1976</td>\n",
              "      <td>298</td>\n",
              "    </tr>\n",
              "    <tr>\n",
              "      <th>2</th>\n",
              "      <td>b80344d063b5ccb3212f76538f3d9e43d87dca9e</td>\n",
              "      <td>SOBXHDL12A81C204C0</td>\n",
              "      <td>1</td>\n",
              "      <td>Stronger</td>\n",
              "      <td>Graduation</td>\n",
              "      <td>Kanye West</td>\n",
              "      <td>2007</td>\n",
              "      <td>300</td>\n",
              "    </tr>\n",
              "    <tr>\n",
              "      <th>3</th>\n",
              "      <td>b80344d063b5ccb3212f76538f3d9e43d87dca9e</td>\n",
              "      <td>SOBYHAJ12A6701BF1D</td>\n",
              "      <td>1</td>\n",
              "      <td>Constellations</td>\n",
              "      <td>In Between Dreams</td>\n",
              "      <td>Jack Johnson</td>\n",
              "      <td>2005</td>\n",
              "      <td>307</td>\n",
              "    </tr>\n",
              "    <tr>\n",
              "      <th>4</th>\n",
              "      <td>b80344d063b5ccb3212f76538f3d9e43d87dca9e</td>\n",
              "      <td>SODACBL12A8C13C273</td>\n",
              "      <td>1</td>\n",
              "      <td>Learn To Fly</td>\n",
              "      <td>There Is Nothing Left To Lose</td>\n",
              "      <td>Foo Fighters</td>\n",
              "      <td>1999</td>\n",
              "      <td>284</td>\n",
              "    </tr>\n",
              "  </tbody>\n",
              "</table>\n",
              "</div>"
            ],
            "text/plain": [
              "                                    user_id             song_id  listen_count  \\\n",
              "0  b80344d063b5ccb3212f76538f3d9e43d87dca9e  SOAKIMP12A8C130995             1   \n",
              "1  b80344d063b5ccb3212f76538f3d9e43d87dca9e  SOBBMDR12A8C13253B             2   \n",
              "2  b80344d063b5ccb3212f76538f3d9e43d87dca9e  SOBXHDL12A81C204C0             1   \n",
              "3  b80344d063b5ccb3212f76538f3d9e43d87dca9e  SOBYHAJ12A6701BF1D             1   \n",
              "4  b80344d063b5ccb3212f76538f3d9e43d87dca9e  SODACBL12A8C13C273             1   \n",
              "\n",
              "             title                        release    artist_name  year  \\\n",
              "0         The Cove             Thicker Than Water   Jack Johnson     0   \n",
              "1  Entre Dos Aguas            Flamenco Para Niños  Paco De Lucia  1976   \n",
              "2         Stronger                     Graduation     Kanye West  2007   \n",
              "3   Constellations              In Between Dreams   Jack Johnson  2005   \n",
              "4     Learn To Fly  There Is Nothing Left To Lose   Foo Fighters  1999   \n",
              "\n",
              "   temperature  \n",
              "0          308  \n",
              "1          298  \n",
              "2          300  \n",
              "3          307  \n",
              "4          284  "
            ]
          },
          "execution_count": 4,
          "metadata": {},
          "output_type": "execute_result"
        }
      ],
      "source": [
        "#Read userid-songid-listen_count triplets\n",
        "triplets_file = '10000.txt'\n",
        "songs_metadata_file = 'output_data.csv'\n",
        "\n",
        "song_df_1 = pd.read_table(triplets_file,header=None)\n",
        "song_df_1.columns = ['user_id', 'song_id', 'listen_count']\n",
        "print(song_df_1.head())\n",
        "#Read song  metadata\n",
        "song_df_2 =  pd.read_csv(songs_metadata_file)\n",
        "song_df_2.columns = ['song_id', 'title','release','artist_name','year','temperature']\n",
        "print(song_df_2.head())\n",
        "#Merge the two dataframes above to create input dataframe for recommender systems\n",
        "song_df = pd.merge(song_df_1, song_df_2.drop_duplicates(['song_id']), on=\"song_id\", how=\"left\") \n",
        "song_df.head()"
      ]
    },
    {
      "cell_type": "markdown",
      "metadata": {
        "id": "lO7DBzHj_6wN"
      },
      "source": [
        "# Explore data\n",
        "\n",
        "Music data shows how many times a user listened to a song, as well as the details of the song."
      ]
    },
    {
      "cell_type": "code",
      "execution_count": null,
      "metadata": {
        "jupyter": {
          "outputs_hidden": false
        },
        "scrolled": true,
        "id": "lw6iZ7Cl_6wO",
        "outputId": "b051027e-5053-48d2-b394-1abb2bd99be4"
      },
      "outputs": [
        {
          "data": {
            "text/html": [
              "<div>\n",
              "<style scoped>\n",
              "    .dataframe tbody tr th:only-of-type {\n",
              "        vertical-align: middle;\n",
              "    }\n",
              "\n",
              "    .dataframe tbody tr th {\n",
              "        vertical-align: top;\n",
              "    }\n",
              "\n",
              "    .dataframe thead th {\n",
              "        text-align: right;\n",
              "    }\n",
              "</style>\n",
              "<table border=\"1\" class=\"dataframe\">\n",
              "  <thead>\n",
              "    <tr style=\"text-align: right;\">\n",
              "      <th></th>\n",
              "      <th>user_id</th>\n",
              "      <th>song_id</th>\n",
              "      <th>listen_count</th>\n",
              "      <th>title</th>\n",
              "      <th>release</th>\n",
              "      <th>artist_name</th>\n",
              "      <th>year</th>\n",
              "      <th>temperature</th>\n",
              "    </tr>\n",
              "  </thead>\n",
              "  <tbody>\n",
              "    <tr>\n",
              "      <th>0</th>\n",
              "      <td>b80344d063b5ccb3212f76538f3d9e43d87dca9e</td>\n",
              "      <td>SOAKIMP12A8C130995</td>\n",
              "      <td>1</td>\n",
              "      <td>The Cove</td>\n",
              "      <td>Thicker Than Water</td>\n",
              "      <td>Jack Johnson</td>\n",
              "      <td>0</td>\n",
              "      <td>308</td>\n",
              "    </tr>\n",
              "    <tr>\n",
              "      <th>1</th>\n",
              "      <td>b80344d063b5ccb3212f76538f3d9e43d87dca9e</td>\n",
              "      <td>SOBBMDR12A8C13253B</td>\n",
              "      <td>2</td>\n",
              "      <td>Entre Dos Aguas</td>\n",
              "      <td>Flamenco Para Niños</td>\n",
              "      <td>Paco De Lucia</td>\n",
              "      <td>1976</td>\n",
              "      <td>298</td>\n",
              "    </tr>\n",
              "    <tr>\n",
              "      <th>2</th>\n",
              "      <td>b80344d063b5ccb3212f76538f3d9e43d87dca9e</td>\n",
              "      <td>SOBXHDL12A81C204C0</td>\n",
              "      <td>1</td>\n",
              "      <td>Stronger</td>\n",
              "      <td>Graduation</td>\n",
              "      <td>Kanye West</td>\n",
              "      <td>2007</td>\n",
              "      <td>300</td>\n",
              "    </tr>\n",
              "    <tr>\n",
              "      <th>3</th>\n",
              "      <td>b80344d063b5ccb3212f76538f3d9e43d87dca9e</td>\n",
              "      <td>SOBYHAJ12A6701BF1D</td>\n",
              "      <td>1</td>\n",
              "      <td>Constellations</td>\n",
              "      <td>In Between Dreams</td>\n",
              "      <td>Jack Johnson</td>\n",
              "      <td>2005</td>\n",
              "      <td>307</td>\n",
              "    </tr>\n",
              "    <tr>\n",
              "      <th>4</th>\n",
              "      <td>b80344d063b5ccb3212f76538f3d9e43d87dca9e</td>\n",
              "      <td>SODACBL12A8C13C273</td>\n",
              "      <td>1</td>\n",
              "      <td>Learn To Fly</td>\n",
              "      <td>There Is Nothing Left To Lose</td>\n",
              "      <td>Foo Fighters</td>\n",
              "      <td>1999</td>\n",
              "      <td>284</td>\n",
              "    </tr>\n",
              "  </tbody>\n",
              "</table>\n",
              "</div>"
            ],
            "text/plain": [
              "                                    user_id             song_id  listen_count  \\\n",
              "0  b80344d063b5ccb3212f76538f3d9e43d87dca9e  SOAKIMP12A8C130995             1   \n",
              "1  b80344d063b5ccb3212f76538f3d9e43d87dca9e  SOBBMDR12A8C13253B             2   \n",
              "2  b80344d063b5ccb3212f76538f3d9e43d87dca9e  SOBXHDL12A81C204C0             1   \n",
              "3  b80344d063b5ccb3212f76538f3d9e43d87dca9e  SOBYHAJ12A6701BF1D             1   \n",
              "4  b80344d063b5ccb3212f76538f3d9e43d87dca9e  SODACBL12A8C13C273             1   \n",
              "\n",
              "             title                        release    artist_name  year  \\\n",
              "0         The Cove             Thicker Than Water   Jack Johnson     0   \n",
              "1  Entre Dos Aguas            Flamenco Para Niños  Paco De Lucia  1976   \n",
              "2         Stronger                     Graduation     Kanye West  2007   \n",
              "3   Constellations              In Between Dreams   Jack Johnson  2005   \n",
              "4     Learn To Fly  There Is Nothing Left To Lose   Foo Fighters  1999   \n",
              "\n",
              "   temperature  \n",
              "0          308  \n",
              "1          298  \n",
              "2          300  \n",
              "3          307  \n",
              "4          284  "
            ]
          },
          "execution_count": 5,
          "metadata": {},
          "output_type": "execute_result"
        }
      ],
      "source": [
        "song_df.head()"
      ]
    },
    {
      "cell_type": "markdown",
      "metadata": {
        "id": "seGHWQNh_6wO"
      },
      "source": [
        "## Length of the dataset"
      ]
    },
    {
      "cell_type": "code",
      "execution_count": null,
      "metadata": {
        "jupyter": {
          "outputs_hidden": false
        },
        "id": "BjClUCgK_6wP",
        "outputId": "e1b92b30-e80a-41b1-ed77-0040e203f6c2"
      },
      "outputs": [
        {
          "data": {
            "text/plain": [
              "2000000"
            ]
          },
          "execution_count": 6,
          "metadata": {},
          "output_type": "execute_result"
        }
      ],
      "source": [
        "len(song_df)"
      ]
    },
    {
      "cell_type": "markdown",
      "metadata": {
        "id": "rkYqv7df_6wQ"
      },
      "source": [
        "## Create a subset of the dataset"
      ]
    },
    {
      "cell_type": "code",
      "execution_count": null,
      "metadata": {
        "jupyter": {
          "outputs_hidden": false
        },
        "scrolled": true,
        "id": "hPcr8gXi_6wQ",
        "outputId": "8ab1ebae-b09d-455f-9f8c-bfc72b005b91"
      },
      "outputs": [
        {
          "data": {
            "text/plain": [
              "0            The Cove - Jack Johnson\n",
              "1    Entre Dos Aguas - Paco De Lucia\n",
              "2              Stronger - Kanye West\n",
              "3      Constellations - Jack Johnson\n",
              "4        Learn To Fly - Foo Fighters\n",
              "Name: song, dtype: object"
            ]
          },
          "execution_count": 7,
          "metadata": {},
          "output_type": "execute_result"
        }
      ],
      "source": [
        "song_df = song_df.head(10000)\n",
        "\n",
        "#Merge song title and artist_name columns to make a merged column\n",
        "song_df['song'] = song_df['title'].map(str) + \" - \" + song_df['artist_name']\n",
        "song_df['song'].head()"
      ]
    },
    {
      "cell_type": "markdown",
      "metadata": {
        "id": "PiVxsHgQ_6wR"
      },
      "source": [
        "## Showing the most popular songs in the dataset"
      ]
    },
    {
      "cell_type": "code",
      "execution_count": null,
      "metadata": {
        "jupyter": {
          "outputs_hidden": false
        },
        "id": "fMULrHFk_6wR",
        "outputId": "3825deb6-1201-43ab-a2bd-f1fa2e3f41f5"
      },
      "outputs": [
        {
          "data": {
            "text/html": [
              "<div>\n",
              "<style scoped>\n",
              "    .dataframe tbody tr th:only-of-type {\n",
              "        vertical-align: middle;\n",
              "    }\n",
              "\n",
              "    .dataframe tbody tr th {\n",
              "        vertical-align: top;\n",
              "    }\n",
              "\n",
              "    .dataframe thead th {\n",
              "        text-align: right;\n",
              "    }\n",
              "</style>\n",
              "<table border=\"1\" class=\"dataframe\">\n",
              "  <thead>\n",
              "    <tr style=\"text-align: right;\">\n",
              "      <th></th>\n",
              "      <th>song</th>\n",
              "      <th>listen_count</th>\n",
              "      <th>percentage</th>\n",
              "    </tr>\n",
              "  </thead>\n",
              "  <tbody>\n",
              "    <tr>\n",
              "      <th>3660</th>\n",
              "      <td>Sehr kosmisch - Harmonia</td>\n",
              "      <td>45</td>\n",
              "      <td>0.45</td>\n",
              "    </tr>\n",
              "    <tr>\n",
              "      <th>4678</th>\n",
              "      <td>Undo - Björk</td>\n",
              "      <td>32</td>\n",
              "      <td>0.32</td>\n",
              "    </tr>\n",
              "    <tr>\n",
              "      <th>5105</th>\n",
              "      <td>You're The One - Dwight Yoakam</td>\n",
              "      <td>32</td>\n",
              "      <td>0.32</td>\n",
              "    </tr>\n",
              "    <tr>\n",
              "      <th>1071</th>\n",
              "      <td>Dog Days Are Over (Radio Edit) - Florence + Th...</td>\n",
              "      <td>28</td>\n",
              "      <td>0.28</td>\n",
              "    </tr>\n",
              "    <tr>\n",
              "      <th>3655</th>\n",
              "      <td>Secrets - OneRepublic</td>\n",
              "      <td>28</td>\n",
              "      <td>0.28</td>\n",
              "    </tr>\n",
              "    <tr>\n",
              "      <th>...</th>\n",
              "      <td>...</td>\n",
              "      <td>...</td>\n",
              "      <td>...</td>\n",
              "    </tr>\n",
              "    <tr>\n",
              "      <th>5139</th>\n",
              "      <td>high fives - Four Tet</td>\n",
              "      <td>1</td>\n",
              "      <td>0.01</td>\n",
              "    </tr>\n",
              "    <tr>\n",
              "      <th>5140</th>\n",
              "      <td>in white rooms - Booka Shade</td>\n",
              "      <td>1</td>\n",
              "      <td>0.01</td>\n",
              "    </tr>\n",
              "    <tr>\n",
              "      <th>5143</th>\n",
              "      <td>paranoid android - Christopher O'Riley</td>\n",
              "      <td>1</td>\n",
              "      <td>0.01</td>\n",
              "    </tr>\n",
              "    <tr>\n",
              "      <th>5149</th>\n",
              "      <td>¿Lo Ves? [Piano Y Voz] - Alejandro Sanz</td>\n",
              "      <td>1</td>\n",
              "      <td>0.01</td>\n",
              "    </tr>\n",
              "    <tr>\n",
              "      <th>5150</th>\n",
              "      <td>Época - Gotan Project</td>\n",
              "      <td>1</td>\n",
              "      <td>0.01</td>\n",
              "    </tr>\n",
              "  </tbody>\n",
              "</table>\n",
              "<p>5151 rows × 3 columns</p>\n",
              "</div>"
            ],
            "text/plain": [
              "                                                   song  listen_count  \\\n",
              "3660                           Sehr kosmisch - Harmonia            45   \n",
              "4678                                       Undo - Björk            32   \n",
              "5105                     You're The One - Dwight Yoakam            32   \n",
              "1071  Dog Days Are Over (Radio Edit) - Florence + Th...            28   \n",
              "3655                              Secrets - OneRepublic            28   \n",
              "...                                                 ...           ...   \n",
              "5139                              high fives - Four Tet             1   \n",
              "5140                       in white rooms - Booka Shade             1   \n",
              "5143             paranoid android - Christopher O'Riley             1   \n",
              "5149            ¿Lo Ves? [Piano Y Voz] - Alejandro Sanz             1   \n",
              "5150                              Época - Gotan Project             1   \n",
              "\n",
              "      percentage  \n",
              "3660        0.45  \n",
              "4678        0.32  \n",
              "5105        0.32  \n",
              "1071        0.28  \n",
              "3655        0.28  \n",
              "...          ...  \n",
              "5139        0.01  \n",
              "5140        0.01  \n",
              "5143        0.01  \n",
              "5149        0.01  \n",
              "5150        0.01  \n",
              "\n",
              "[5151 rows x 3 columns]"
            ]
          },
          "execution_count": 8,
          "metadata": {},
          "output_type": "execute_result"
        }
      ],
      "source": [
        "song_grouped = song_df.groupby(['song']).agg({'listen_count': 'count'}).reset_index()\n",
        "grouped_sum = song_grouped['listen_count'].sum()\n",
        "song_grouped['percentage']  = song_grouped['listen_count'].div(grouped_sum)*100\n",
        "song_grouped.sort_values(['listen_count', 'song'], ascending = [0,1])"
      ]
    },
    {
      "cell_type": "markdown",
      "metadata": {
        "id": "J7ZvCoTY_6wS"
      },
      "source": [
        "## Count number of unique users in the dataset"
      ]
    },
    {
      "cell_type": "code",
      "execution_count": null,
      "metadata": {
        "jupyter": {
          "outputs_hidden": false
        },
        "id": "N2nFCliB_6wS",
        "outputId": "5cf9c324-ff0a-4a1f-d108-fb6083cd58a9"
      },
      "outputs": [
        {
          "name": "stdout",
          "output_type": "stream",
          "text": [
            "['b80344d063b5ccb3212f76538f3d9e43d87dca9e'\n",
            " '85c1f87fea955d09b4bec2e36aee110927aedf9a'\n",
            " 'bd4c6e843f00bd476847fb75c47b4fb430a06856'\n",
            " '8937134734f869debcab8f23d77465b4caaa85df'\n",
            " '969cc6fb74e076a68e36a04409cb9d3765757508'\n",
            " '4bd88bfb25263a75bbdd467e74018f4ae570e5df'\n",
            " 'e006b1a48f466bf59feefed32bec6494495a4436'\n",
            " '9d6f0ead607ac2a6c2460e4d14fb439a146b7dec'\n",
            " '9bb911319fbc04f01755814cb5edb21df3d1a336'\n",
            " 'b64cdd1a0bd907e5e00b39e345194768e330d652'\n",
            " '17aa9f6dbdf753831da8f38c71b66b64373de613'\n",
            " 'd6589314c0a9bcbca4fee0c93b14bc402363afea'\n",
            " '5a905f000fc1ff3df7ca807d57edb608863db05d'\n",
            " 'c737ec8c1b16ce8e39115f4432c9a7fc21ec47a1'\n",
            " '45544491ccfcdc0b0803c34f201a6287ed4e30f8'\n",
            " 'ed7d4c476013b1c3dd91982b61494bf7436083ba'\n",
            " 'baf47ed8da24d607e50d8684cde78b923538640f'\n",
            " '169f9f4c68b62d1887c7c0ac99d10a79cfca5daf'\n",
            " 'a820d2d4f16bbd53be9e41e0417dfb234bfdfba8'\n",
            " 'bd8475385f0aa78830fa6dfce9e7242164b035c8'\n",
            " '0afaa5d9d04bf85af720fe8cc566a41ca3e41c97'\n",
            " '81bde1c3a845c64f1677bd9d28f2da85dfefcf30'\n",
            " '403b3b867fc71dfdcc12652f30e88bdc7ccd9aa4'\n",
            " 'f84f5b5a5c5d1d9fb4866f6488e0d2661b54c192'\n",
            " 'a1380d458c15706b9d5282304db81a5a78352e96'\n",
            " '405d396ea64d75b5eaefaaf8ac836f45fa56af4d'\n",
            " '2c42e6551311710ca5a839d62058820a42ead493'\n",
            " '8deca80c3da6024a1456e123308eb94fee1b439f'\n",
            " 'bf30441e24ef5326354295723d9fe1edf59b8554'\n",
            " '12768858f6a825452e412deb1df36d2d1d9c6791'\n",
            " 'a58de017cbeda1763ea002fe027ed41b4ed53109'\n",
            " '951945330eb5df161ac4f97729647514001cd102'\n",
            " '2b6c2f33bc0e887ea7c4411f58106805a1923280'\n",
            " 'c2934b29d64e467297c608351ed9695ce62128bc'\n",
            " '3f152d355d53865a2ca27ac5ceeffb7ebaea0a26'\n",
            " '90dbbbb47979f46ccdbc413d6b6e31cdb55aa58f'\n",
            " 'ee03697dfdf668a9cd19a44a6f257b9d6a1dc60a'\n",
            " 'f5e8cc6983d563ff255988b9ea0c53e67941f71e'\n",
            " '1fdf267d8e81db0bb69093460fdab8254e69a2de'\n",
            " '484b69dd013df1ec0cfd504886d4f647cb32b08f'\n",
            " 'ff4322e94814d3c7895d07e6f94139b092862611'\n",
            " 'd66f2f66f2bdc9aa3d0362a35fc91ccc844101f7'\n",
            " '0152fcbd02b172a874c75a57a913f0f0109ba272'\n",
            " '523a8a39456d5a96ae8f4d5e8b8b60f3bfb31528'\n",
            " '43683da3c6c5a93c7938ff550faf0d039a9a639a'\n",
            " '930d2be6c85315d72cab9823ec0f7bfe7e477794'\n",
            " '73d0a0c725c9b2c541635672bb0572bfcb7eb2b4'\n",
            " 'ca80fbb6d0deb3cae53763099e2cae7306f005ec'\n",
            " 'b41ead730ac14f6b6717b9cf8859d5579f3f8d4d'\n",
            " '2aa3b8c9f60070025940183cdd44602086d7b535'\n",
            " '6f62f1c30b0f4b87db28c101ddcab89b4f5d7298'\n",
            " 'e6b4dbf8e48346fbfd233fa96cdf5daee25ae77c'\n",
            " '99b5f915dd56a0150eb91605e1f6109e1e80c9de'\n",
            " '77cac5c3389010b64d01b30f725c24de4a5bb626'\n",
            " 'a4851161aef67246972269b957ab54be3b002c8b'\n",
            " 'b6b799f34a204bd928ea014c243ddad6d0be4f8f'\n",
            " 'a5cc4c1c78e830b43bba70a8d439ad865ca8026f'\n",
            " '80aa05e1251892949df7c7b1f61b6ce8ffa27aec'\n",
            " '99d57b8925d3c30c534d2e651cc029fcaaa86cce'\n",
            " 'edc8b7b1fd592a3b69c3d823a742e1a064abec95'\n",
            " 'fe979a7b199de3ee8a78486c10e5ed13587fc359'\n",
            " '732f88be38fae217f8ab7e24c20dd072436e3e40'\n",
            " '0c1a6a1fc9b0e6df616c5bddace2559a7952ebe5'\n",
            " '3f9ed694a79835c921ef6d94acd28f876c1d901e'\n",
            " '1a849df9dabb15845eb932d46d81e2fd77176786'\n",
            " 'a4a1daac7ba5534ade06e32c5b9d220eb5ce145d'\n",
            " 'f28f980d8842ebfaa31e8fb3939aace4a43a18ec'\n",
            " 'daebcdcf97caaf54a327b8ff52eca9f320599a10'\n",
            " '4c84359a164b161496d05282707cecbd50adbfc4'\n",
            " '8cbb5066924ec788e3fea9a4aae59586f46f38fa'\n",
            " '3b3c1e29095a98ae07e2427522244f10daa69340'\n",
            " 'c2cffe9ccaa09a327e8134e9a1f24901801fb2f8'\n",
            " '01655ae6bc52e29c9cd100a7dde4e9eeae5e4031'\n",
            " '9fba771d9731561eba47216f6fbfc0023d88641b'\n",
            " '62f2f9b881dc320d745a90c0c10528d18e10deb1'\n",
            " '1b00fc5a510fd249d4d2f94e7f21f1e2eeb21cff'\n",
            " 'b4e32cdb654ab914a0ac73d2bbc5cae142da405a'\n",
            " 'f47116f998e030f2dab275b81fb2a04a9dc06c33'\n",
            " '20d0638c7ada27ac12346b0ed5ab99b39524291d'\n",
            " '7e2b716907a9a295d92c2f35d7e260aeee2b32cf'\n",
            " 'ea07020bb223c733ccc55aa925ebcc25c4d97377'\n",
            " '179b2286bb4eea7193bcfa0c36fcfa4eade2b34d'\n",
            " 'b61afb42335287239bd40e1dea50d849cbf8a9a9'\n",
            " '78e0065cacc15d6329be91b77045f12ab18cbea5'\n",
            " '3ff7a31452eeabd7a4e07f0d243c674e3d0adf46'\n",
            " '956044d724390e40c8511b49e5bf6bc28071de3a'\n",
            " '07caa920795cd4f20bfeeb0e192a5ddd9566ecdd'\n",
            " '8247c08db9dba6cc18cff4381c7279e540c374cb'\n",
            " '589d9f98cb25b83da2450733437fb9a79dda116d'\n",
            " 'b526db34ac055a64202fe7af4b16130b7de545ab'\n",
            " '15415fa2745b344bce958967c346f2a89f792f63'\n",
            " '66166f4f57bb897f1f8e2aae6f53f776088f43d8'\n",
            " '5555d1bc4488a310753a9d7b4c4d0b92c2d5d674'\n",
            " '95942345306393998eb3a051ae5fa3c4d5afbaa4'\n",
            " '344af62cf08ea5c4ea1eb554366d221c1431f4d3'\n",
            " '2f343c8bd0502c4cf851a6970e47d296a4b76d5b'\n",
            " '9fbc0cc4fe6191cabdddf41124bd507dca08ceb6'\n",
            " 'eb9d84c10ac4bffeb383a3a7c2d5207c93da4a84'\n",
            " '55e29789181da8b9c8e9d5f3b624a029492d7616'\n",
            " 'eb1ad31d040406c6428c5f4420b0bc709b1c5350'\n",
            " 'b1269307f2ae8c17062c6aea2502b099aad517b6'\n",
            " '95773b3725a96464c85a5121d00f2566e6e8b69b'\n",
            " '4b73abafd2a8309c29695ce368bbf17ab32f3d3a'\n",
            " '175fb4d4bf89b82021524e9485fffd47c3ab1aaf'\n",
            " '8ee90038724c4957eb4df16f3e9c6ed2b570a3ec'\n",
            " '7c5ab90ba508502a888843a71eef80bf186c7b88'\n",
            " '515c6d7023ad31411c1f6b11e0b2f56810348bee'\n",
            " 'b44a7b18e5861d6b5c0094e43239191cbe5ff4e1'\n",
            " 'bd64f193f0f53f09d44ff48fd52830ff2fded392'\n",
            " '4782b9bb73322bf80329ce5989128a67bc538747'\n",
            " '881f2e87fe2a45ae27d6e235c156c762ac3cb82a'\n",
            " '85d0d381551960608e02df98956277e495b3cf6b'\n",
            " '5d5e0142e54c3bb7b69f548c2ee55066c90700eb'\n",
            " 'e5a70dc3270e08ee11ab1325297eccb3158ce383'\n",
            " 'c2d86e9cbf756ce05ea3c163e24de394585b7c53'\n",
            " '4192e443e37ffa08f1cc02b10b42b4a178a09004'\n",
            " '176b5e98c1f01dba146ce8c6e15cf6fc344485ec'\n",
            " '0eda271c8bf8b846c1c0320f6b7656ca73b80992'\n",
            " 'ed3664f9cd689031fe4d0ed6c66503bdc3ad7cb6'\n",
            " '3bd42c39df324c33509a40ca917343553ef38da9'\n",
            " '884209a41deb55df792f074bccf8af1c1c31768b'\n",
            " 'd775b2f1e62284a3ff407b91fe53d08525f6f086'\n",
            " '8814f5d1f1d7177aa2efb6de6454504f3bb7b7bc'\n",
            " '9b887e10a4711486085c4fae2d2599fc0d2c484d'\n",
            " '399793ee5842e6f5b0b7f04fa5ec402454e2fe34'\n",
            " 'a520488fcf049bbb5cd847cfa4f884c740692780'\n",
            " 'bab8d135cf88852063ed4a084dd24c783d7ff841'\n",
            " '7ca1d6d28c87f8edb0b639c0a31cd14f7bc98fe7'\n",
            " 'e4e99e5b3223bec258cf2ff0d090d05a06302344'\n",
            " '8dcb524ff75e0ad0f0a80aaccadf7bbaa3b89a41'\n",
            " '5235516080c0ad60972e4f4ce72238697e4bbceb'\n",
            " '5e161b9e14f303a0cef2d3f44d07dd946549f89f'\n",
            " 'e4c05157f8cebdf3b9d689c441ba97c5ed5db05b'\n",
            " '8bc2733e75989c8de36cf1bb596dabfd72734e86'\n",
            " '18dc95f354220b343e98ebbb7c8564291284ed9f'\n",
            " 'fbbf68d14c77af55044a7e27f7befef5c923aa08'\n",
            " 'c162cca4595e5b2fbeefed35ae0f247f648d7751'\n",
            " 'ea6cbdb88a3bead8ace9c163d8e8eca78e374a19'\n",
            " '0ef42a19efb74d0a05c308d00636c8d8d41bec0c'\n",
            " '2475b003df9c084c1488b2e63666e8cc87112180'\n",
            " 'e0388a836f13f4c1f8aa600ae61625f087f40353'\n",
            " '29e030a1eea04c06837b466a5328bf55133c84ae'\n",
            " '85952991b8e3ca5803a08b0b2f9c6d71abf9bb5b'\n",
            " '2341121b6d6d2020303f02053dad60586e41034d'\n",
            " 'e96e052152a7e29bcfd4b841859c66249f280303'\n",
            " 'bbcdf7099bf1429850d4d0a1440ef3006916f4fd'\n",
            " '7661038e3e655fd31961ad18aea13dded963eedf'\n",
            " '56b0a86f8093f90d1c9ab1762467c44808ceb672'\n",
            " '06b31818386e598017a475f8e349b3ca31ba3178'\n",
            " 'e8e8fda1705d4366eb47efd2ffc4f03af905d962'\n",
            " '25fc0200450bbf726c8511fabe31ecfdb81732eb'\n",
            " '17ac9905f03a5d2908ac64667fb156bf63ccae66'\n",
            " 'e21477efb83bd323205ce6f5bd662f3df9d477e5'\n",
            " '03c90bfd09151973863c4cadd5a749cd7982abc0'\n",
            " 'b81bead2912258259b67d88483244f88062d4a6d'\n",
            " 'dfb41c400ed8fbb064644d173f8fd00398ca4370'\n",
            " 'eda12b54342243175dba3db83f66eade127d2b4e'\n",
            " '7d0317ddb859a960cb4836e7c7e9982a54fd64e2'\n",
            " 'f608c215606e6421a429ea28ad08243241d5347d'\n",
            " '3187e658fd71be99d68d96f3a61a436c8a607365'\n",
            " '537340ff896dea11328910013cfe759413e1eeb3'\n",
            " '49af82075bf3a444487a70587298fd93fb8bbe1e'\n",
            " '4691b4c353503da2c108e372ff056a9ac847c4d1'\n",
            " '12497e138741a0b94bb36a14bef32c9d0ee20fec'\n",
            " 'ffadf9297a99945c0513cd87939d91d8b602936b'\n",
            " '685480702e45a90a3b38b543941d8ebb422aeef3'\n",
            " '6ac64072cb8f308f36c64cc4aafb6021fef70476'\n",
            " 'b4adf5ac8bcba59011df7be840dda1134a47cc30'\n",
            " '2418d6837aada8911991cc748bc70a9a479f0cb4'\n",
            " '37029a65b9925fb3c1964774fcab695b82955f76'\n",
            " '12a4a991c8b53cd6906995caed8b1f2bd3b6436a'\n",
            " '96e72774fb758108c78d91c110e78133c9ded266'\n",
            " '8caf9a87e266a22298bd977a63489d008af241c5'\n",
            " '1b704d4cddabea8258bd93497fcb73eab32fa592'\n",
            " 'eb78cc7907c80266eede622da13510fc5123ae7d'\n",
            " 'a54543f7282b66b3c8423181bf2789e1c7eb2edc'\n",
            " '9d100b4175fed9da71b76800b921c4a40d0208b5'\n",
            " 'e2f4c0d8b5b7e50c31931300e9339943fc0cca99'\n",
            " 'b009d2161ab50a122f8c81adb7ce0d40e8e42f2d'\n",
            " '19d6ebd8c8a622d1b0115c63bee06523792215b5'\n",
            " '2e37aa820994c7e8465721a6a6ee78f48fc4df7a'\n",
            " '956999576244ad42d6d41faac8505fbef0a4ccc1'\n",
            " '4d4abafb7dd7a30206747398c9225f3e06942b3f'\n",
            " '343fc3fb987ca12c3c5df154c2b4721ca111f696'\n",
            " 'fb41d1c374d093ab643ef3bcd70eeb258d479076'\n",
            " 'dd7349a9e017c5ac51cb1cc97dd8a9ad057566b5'\n",
            " '624d58f26c2e5691ed21bd560f8b3d30f932e9f7'\n",
            " '8f241c98c6cc95ab4a8260ff9b510c2e445a33d7'\n",
            " '806ccae96c8ecb1c198482aff785ccd6bbe17143'\n",
            " 'adbd40c4f3fe78e7f49f491ea04859ea07de1ed1'\n",
            " '49004e0f0819dc349c9aba9d233a6c1a0d88c590'\n",
            " '999902c7302ca251b23f5c0d643debce084076d3'\n",
            " 'c4bcf00d005e6848a032d94f7fb212f499cdc1ba'\n",
            " '4449f7ea241ceb4a2d1e2298c4aead417b26899a'\n",
            " '93daed66184da1bf172e853c537f72ec93294fab'\n",
            " 'd305e8d98cf77ce3b90c69580dd3fc38e86fee93'\n",
            " '9a0215ffab0f8322aeb36fa6636444b050462a51'\n",
            " 'c1fc436b58e28b3e3f1b43a4e955baa19d8a69ba'\n",
            " '3fef4e71c70ae99ef8a4da00e431f9cdb2b1b729'\n",
            " 'e701a24d9b6c59f5ac37ab28462ca82470e27cfb'\n",
            " 'cd7baa603618c40b9290bd05112061afefdde8ef'\n",
            " '5e3d8c9728270d6557453f0c738e7f443feef13e'\n",
            " 'be0a4b64e9689c46e94b5a9a9c7910ee61aeb16f'\n",
            " 'e61ced632f8c40ec1842d0833e8ac0ffb9a9e934'\n",
            " 'e11a55c8eecae195a596ca208ce69d2eb550689f'\n",
            " 'b3de3bf6a0d2e5953d3095a58ee99fd362b97e8f'\n",
            " '7ee2550ad5867a0793a624eb1b3284e49639c45f'\n",
            " '0e695c8614e9d76a157f39d4b30e7b076d3f3147'\n",
            " 'f0117aaaa329925350271431c324f4cf0468bb0c'\n",
            " '7822f4f6c7b830abf9ba48c4b7dad7e9175d052d'\n",
            " 'c01f9838d66929bd2494eb8e627054024a13d5c4'\n",
            " 'f17b1b6f0e2dd48d2d0ffde4db7c5b385b8ec253'\n",
            " 'b96f2a9cbd9d86b4f9f15978dd3abbdfafe26502'\n",
            " '7dd192c8bd4f27f573cb15e8656442aadd7a9c01'\n",
            " '116a4c95d63623a967edf2f3456c90ebbf964e6f'\n",
            " 'd9f2ea75b38f548535caee41d2c0b0e3f9859b1b'\n",
            " 'c6c57f27fed3cf897daa4f830a0e2a17e65ba77d'\n",
            " '52df18b9b1235ac56507cb4119fc5b3f6f010dcd'\n",
            " 'c379210476d2044769c5f421e392c690f5229757'\n",
            " '8fce200f3912e9608e3b1463cdb9c3529aab5c08'\n",
            " '294e414d2d663a93691461909e6e1ba8d1fca2d8'\n",
            " 'cc55e399781439435a046bcb1a4c78dc2c7ec0f3'\n",
            " '6b7a5895d266599bc414b9eb8fbad59c95b9a99d'\n",
            " 'e3937c7c32f5b68422808a854a4a7a824ee448a5'\n",
            " 'b11e6a84c54160e61efdb9cb5a572b419aa33ae9'\n",
            " 'd463373940530414e6f3dbfa95f694fd8dd2d2f7'\n",
            " '99c8f28e3349b5e1e719995a008912b108126f3c'\n",
            " '4bd925e2dc2205d8b885bca02a88852fd9c49af5'\n",
            " '5086e11a2b5495ba0737636a8f0732e845103770'\n",
            " 'ebb3d26d2662c42f6304f883c150ebdb2fb05042'\n",
            " '0a00498b9d607844a8826184ae7278097d1c008a'\n",
            " 'bcb944b714cd54d7e263b21c49074d6a147479a1'\n",
            " '9c2032efba612bccec98435a3928b67d69350bed'\n",
            " '4208d4ac45e7caab7167a4ea6d34e759a6b9a1fc'\n",
            " 'ea64e003562d2f0f39e5a7dd84af5b1969e0fea3'\n",
            " '5ab56ead71b71022f7043fef70a178b7035629b6'\n",
            " '3851d01aa9d1b2505fa361b63940e8cdc9a3e754'\n",
            " '529b42cdbc379ad2e765aec6d3bad8a192038741'\n",
            " 'd5618c6813c7a067646edcf9c7243ccb95919460'\n",
            " 'dd88ea94f605a63d9fc37a214127e3f00e85e42d'\n",
            " 'a699816c7f4f8855808eee732a5cbd1620091998'\n",
            " '610eaa449a4793ea791ff12252845f6002794c2a'\n",
            " '0c306ce1440dec3b5b07b425880e43b4fb66fe93'\n",
            " '66a0167a7c636b06efc39953aca127667beea260'\n",
            " '53659e6ae51d163d5de5709c53707df87a669cfb'\n",
            " '7c593e9db9a77a2dc8d3d975bb837422d1b0242a'\n",
            " '1a640060dad45f7cb120578b24533f36907ad1b2'\n",
            " '50c39de4224902396941f7515c8414d4e3c48449'\n",
            " '28b232e7ecb32c47c05b795a017786d4be96ef7e'\n",
            " 'fa1e129119f9a5ca7b34d3566e6a8e7a0e0358bd'\n",
            " 'cf0f642e9e796ba3c47118687782426c5427efb5'\n",
            " '7d9b58502405c5bbbfff0c5683cb2dea71089908'\n",
            " 'e188e309e19e0847a05156d6efecc04e4bff4fc7'\n",
            " '94d5bdc37683950e90c56c9b32721edb5d347600'\n",
            " '7602b1490de8e5ce87ac674643a99d8a569d79f0'\n",
            " '6e431141b00c8b8708bda73d658b7ef6ef156e5e'\n",
            " '401c2c49a7c19456212222302a958d715fbcc3ba'\n",
            " '68f0359a2f1cedb0d15c98d88017281db79f9bc6'\n",
            " '4273611413c7199a53ee116edc8d7b0ba56482d5'\n",
            " '9d332c1944d50d7e4653722db5ba5e55daea2bfd'\n",
            " '497f5a58ffeaa953d619e95ca5b8736e74b99127'\n",
            " 'ec25e3d78ea8374869a772dc58bb903528a3c9cc'\n",
            " '53ba380d234fd6022818340983570354ee207f6b'\n",
            " '6a92e22c2538f895532457bc531be9c6d92e66e6'\n",
            " '5aa89364746d7f350d35a403da8f397bd9d32b41'\n",
            " '54028f08e511355e130c47236a7496091005b9f7'\n",
            " 'dc777dbe9ced6ddb5b813e7e0bbb718171b87870'\n",
            " 'e2f4d01b8fc576adb490d07cde3573ff598a2fb5'\n",
            " '8d11c46a7c926f38b505eec8e6c4ebdafd255398'\n",
            " '1645b689f873529ab85e3b72742be44813e82bd3'\n",
            " '3fc803c12264ab6599ee9e379c565be2bb3b0903'\n",
            " 'f10e613636ee8e1f4d3a7f2b21ca9cd36d2e9d8d'\n",
            " '390c2e81bc9cf885608a0891c0a7eb13f1fd3336'\n",
            " 'e427f647c231c1bde8881eca5b2f5db9b3bcb2b4'\n",
            " 'fca15b7964a099b2860dfdb158a2430fb10c4384'\n",
            " '1764b2ebb09e2a40e11ed82f9c37a53a706cc4e1'\n",
            " 'e4b02864403d483586cd9c8ed6b9bfae56fe8bc1'\n",
            " '0560337e6a33be7149c9568b5fde5788294fe101'\n",
            " '95b2ebf54cd69d732fa433ee8994be5818793efb'\n",
            " 'f00f83927e9e39cf1c1e318d5391a697523eef22'\n",
            " '6251be155cbf0728f2528bb02951e0bc6c11acb2'\n",
            " '9c4e14bbd043846b632d3737f08104dcaeb88142'\n",
            " 'dde4fa01de271d51a4a5617ae79820cee7d26d96'\n",
            " '0a004c08b700e4edb74b44c2dbceca4280760a9a'\n",
            " '38db697de143ca55dcf259f99275624710e233c1'\n",
            " '4bc4ae71635b18628f4b0fde4ecb0a40d6d68bf5'\n",
            " '42c9fba813dd9ca8ca3673277a0f923b6845a7a6'\n",
            " '4c96b97b22e0b53c270adc6165eaf64a2a48588b'\n",
            " '5a60fbe99993a5d49fe89dfcd36a39b7180316cc'\n",
            " '2d4df82baf7a0c2f39706a40c25f96fa0c61ef19'\n",
            " '6ebd0e701753b9573d479bd53811a8788dba09d9'\n",
            " '97cd6b9403a63af8b37839f959e1758a3923539f'\n",
            " 'ea3b77e3f9b5688dc3998b2e706ea2c0ca48b8eb'\n",
            " '781d38e5e6029826707b207d7c2ef5c120fa36ed'\n",
            " '645a5b400d31ce69611137da3ebd35d11d4dda4a'\n",
            " '4f18554aeb06f8d8612037549100d6d8d4afd021'\n",
            " '14903f6491e335f4c5f9c42573d700e7ade59c5e'\n",
            " 'fe76c9d535c5834e4a9b91c13e29be6460cb79c4'\n",
            " '135ae184f8552252dcdec7f82ff6f647fa76e9ec'\n",
            " '66da9a2bd5b588e150e08ff9510b59fe30a4abcd'\n",
            " '39eb6b6dc155f96203daa8bc9cd7ea55dc25a7fd'\n",
            " '51182330ee3e55d808df31a951032692c5cefe8a'\n",
            " '25c6bc04a88cda0dfcbb71d8f9d1f30b8fd641c8'\n",
            " 'dd67a78d5f9d8140a0d83849441ca1807f7ea790'\n",
            " '2151970107e08d58919003899f952b64af0ee0ec'\n",
            " '8c0a675214831879573af98d632bf2684273e0d9'\n",
            " 'e6fbcdd689ac0e85992536933f1f86503310447f'\n",
            " '54f71502eca501e23380cbb9934f451694f1e20e'\n",
            " '6f8453b0d9d2199f98c1992995a8445ad6837fd8'\n",
            " 'ea824b9b2e5c9fd5916b1936f57ecb15899c9281'\n",
            " 'f6f0022738877d8b6627093f094b71fac8dae523'\n",
            " 'f694565a4451ed33e6741ede8cd3a7eaad66bb84'\n",
            " '6b72bb3671b838d92413635008e5d41bdb454e2f'\n",
            " '295773c4193b190d3527c6fcc228e879809fee1a'\n",
            " 'fd585aef5c32d3943bd6e7f9f39aa216ba659fd0'\n",
            " '2c218a60b3d777e9e12d56c2e065a9644b5e5f41'\n",
            " 'c24ec42f0e449ff39a95a01f0795f833b898f71b'\n",
            " 'e507a8acd03bbd1f6c2088bd70a0ab2ffb277cd7'\n",
            " '370190e231e1d4a9353d50038f59a0a33f7168f0'\n",
            " 'a56bf59af6edc5ae6c92d61ddd214989332864e8'\n",
            " 'ae99321be6e9a79bb9c2dd4b2aa8b49fdb9efdf8'\n",
            " '319e7ef4be6f8fcdb21b40a4f4b22679d4c59e33'\n",
            " '672a1973a091e8ed8f4d46e3a740621f5fa4176c'\n",
            " 'fbc8b4327aa8ae38d17b567f486468ca10cacde3'\n",
            " '0dd93f61fe69f292ac336715ef607214efb3dbaa'\n",
            " '779b5908593756abb6ff7586177c966022668b06'\n",
            " 'e06fdac28cdd1d69d89de27868d5f02f71c2ee44'\n",
            " '84bd2acb2984b6f1cbc45866b89e692cbc53fc44'\n",
            " '3fd3acaa8dfeb94b0602a33085b44ebe80545dd2'\n",
            " 'cb8ed62245335312d58c97c1d5c68b4cac682afd'\n",
            " 'e9fd0bd8d99e77d97e8666cc6d065c1954040ddf'\n",
            " '249e86c60ec6fce5c8588d51fd94e85dd47ecff7'\n",
            " '6beb4699102775dab57aa406c5ea1217c4ff4869'\n",
            " '33807e46640c7be38f02b6a61d7f1a4f31446b52'\n",
            " '38f8b6f0abab153083b15a0512b18f617df571bf'\n",
            " 'a84d63685ee588d45679887fba2c5ad29a9c17e4'\n",
            " '1b96dd04ce96aa7995e0f817e762ca44a24aab24'\n",
            " '22d652f8891ba2186a4ce3ee8de7c192148108ef'\n",
            " '1a39cf33853fd23d2242cf7b13cc8eb445befdd7'\n",
            " '1012ecfd277b96487ed8357d02fa8326b13696a5'\n",
            " '8fa25e588aeedaa539674babb75729ac9f31f15e'\n",
            " '4ccd8c954827238fb97bcedf005ef6b3602370dd'\n",
            " '9d84d1bcfde6464c02561fbb5dcb294678778b25'\n",
            " '97e48f0f188e04dcdb0f8e20a29dacb881d80c9e'\n",
            " '57e32b0cf88d1e3344dab420971ba46d08dd34bd'\n",
            " '8bde0ae3eda6b6f26c8a91eb5750d416acb3d508'\n",
            " '9012fdca7eee0b946329367498a578adb5271ed8'\n",
            " '3e85485842091c62ad86fa31f1e35799df1cf0c4'\n",
            " '5e2ba12ad8f80f03471efdab6ac7d4b1734773ae'\n",
            " 'c5c7548cba9970b695f1ade5164c11a0101eb00e'\n",
            " '4600442e761b6f636a08134b10b9b6c38cef6ba4'\n",
            " '332de6dcfc5b597500a661ab51a84653705b492b'\n",
            " 'b12c786deef0e618b5f277bc337f67128f425efe'\n",
            " '4b65fe3f5e0caff1cd870637d0f05be160a721c4'\n",
            " 'a8268c552c1122626ba8ab4d7cf2f799de7931b2'\n",
            " 'b4e93ce145d511946e444cbd22c090b78735c99f'\n",
            " 'c5d42aa00afa6889de703c49f40ecb26b1c401c4'\n",
            " 'c18b096e15ca0adf42c11763c9535973cc4b507b'\n",
            " '4e7c9c148ab29ae7fa5cd31eb4302762f18399cd'\n",
            " '1df33b965ac9afb508f1d36be3df999c2f0e5138'\n",
            " 'b923c4fc244d671f96ede79a60b10da1583ddab2'\n",
            " 'ba8d1693c3c2153d4eb7952c786c575c1c68cc55'\n",
            " 'bf03bbb01a7803ed1a5fec51bfe9423a79737d1a'\n",
            " '08c129083a44492415e40b70d8f90755e15f4a91'\n",
            " '15cc706a7f24975ca831aaaf297bf0392746b3fe']\n"
          ]
        }
      ],
      "source": [
        "users = song_df['user_id'].unique()\n",
        "print(users)"
      ]
    },
    {
      "cell_type": "code",
      "execution_count": null,
      "metadata": {
        "jupyter": {
          "outputs_hidden": false
        },
        "id": "6F4Ia99h_6wT",
        "outputId": "9f4ad06e-1bec-4890-d0c0-01a6d3bc16cd"
      },
      "outputs": [
        {
          "data": {
            "text/plain": [
              "365"
            ]
          },
          "execution_count": 10,
          "metadata": {},
          "output_type": "execute_result"
        }
      ],
      "source": [
        "len(users)"
      ]
    },
    {
      "cell_type": "markdown",
      "metadata": {
        "id": "3m6UIxz6_6wT"
      },
      "source": [
        "## Count the number of unique songs in the dataset"
      ]
    },
    {
      "cell_type": "code",
      "execution_count": null,
      "metadata": {
        "jupyter": {
          "outputs_hidden": false
        },
        "id": "FP4p5UHa_6wU",
        "outputId": "e3d9f106-a3e9-4769-c180-25fc6550db1a"
      },
      "outputs": [
        {
          "data": {
            "text/plain": [
              "5151"
            ]
          },
          "execution_count": 11,
          "metadata": {},
          "output_type": "execute_result"
        }
      ],
      "source": [
        "###Fill in the code here\n",
        "songs = song_df['song'].unique()\n",
        "len(songs)"
      ]
    },
    {
      "cell_type": "markdown",
      "metadata": {
        "id": "UtvJAyRc_6wU"
      },
      "source": [
        "# Create a song recommender"
      ]
    },
    {
      "cell_type": "code",
      "execution_count": null,
      "metadata": {
        "jupyter": {
          "outputs_hidden": false
        },
        "id": "A6Po45u3_6wV",
        "outputId": "05e2a05d-46a1-4cd5-c836-413f0ee65930"
      },
      "outputs": [
        {
          "name": "stdout",
          "output_type": "stream",
          "text": [
            "                                       user_id             song_id  \\\n",
            "7389  94d5bdc37683950e90c56c9b32721edb5d347600  SOXNZOW12AB017F756   \n",
            "9275  1012ecfd277b96487ed8357d02fa8326b13696a5  SOXHYVQ12AB0187949   \n",
            "2995  15415fa2745b344bce958967c346f2a89f792f63  SOOSZAZ12A6D4FADF8   \n",
            "5316  ffadf9297a99945c0513cd87939d91d8b602936b  SOWDJEJ12A8C1339FE   \n",
            "356   5a905f000fc1ff3df7ca807d57edb608863db05d  SOAMPRJ12A8AE45F38   \n",
            "\n",
            "      listen_count                 title  \\\n",
            "7389             2      Half Of My Heart   \n",
            "9275             1  The Beautiful People   \n",
            "2995             1     Sanctify Yourself   \n",
            "5316             4     Heart Cooks Brain   \n",
            "356             20                 Rorol   \n",
            "\n",
            "                                                release      artist_name  \\\n",
            "7389                                     Battle Studies       John Mayer   \n",
            "9275             Antichrist Superstar (Ecopac Explicit)   Marilyn Manson   \n",
            "2995                             Glittering Prize 81/92     Simple Minds   \n",
            "5316  Everything Is Nice: The Matador Records 10th A...     Modest Mouse   \n",
            "356                               Identification Parade  Octopus Project   \n",
            "\n",
            "      year  temperature                                   song  \n",
            "7389     0          303          Half Of My Heart - John Mayer  \n",
            "9275     0          286  The Beautiful People - Marilyn Manson  \n",
            "2995  1985          289       Sanctify Yourself - Simple Minds  \n",
            "5316  1997          289       Heart Cooks Brain - Modest Mouse  \n",
            "356   2002          298                Rorol - Octopus Project  \n",
            "\n",
            "\n",
            "Test\n",
            "                                       user_id             song_id  \\\n",
            "9394  97e48f0f188e04dcdb0f8e20a29dacb881d80c9e  SOLCAXX12B0B8079A5   \n",
            "898   a820d2d4f16bbd53be9e41e0417dfb234bfdfba8  SOHMTUC12A58A799D4   \n",
            "2398  01655ae6bc52e29c9cd100a7dde4e9eeae5e4031  SOEUTXF12A6D4FC6F8   \n",
            "5906  806ccae96c8ecb1c198482aff785ccd6bbe17143  SOIBSSJ12A8151E066   \n",
            "2343  8cbb5066924ec788e3fea9a4aae59586f46f38fa  SOPPROJ12AB0184E18   \n",
            "\n",
            "      listen_count                             title               release  \\\n",
            "9394             1               Mister Jung Stuffed         Rabbit Habits   \n",
            "898              2                               Ort        Cunning Stunts   \n",
            "2398             2                 Suena tu guitarra      Muriendo de Amor   \n",
            "5906             1                  Let Me Be Myself          3 Doors Down   \n",
            "2343             1  Pursuit Of Happiness (nightmare)  Pursuit Of Happiness   \n",
            "\n",
            "                    artist_name  year  temperature  \\\n",
            "9394                    Man Man  2008          279   \n",
            "898                        Cows  1992          288   \n",
            "2398              Fernando Soto     0          300   \n",
            "5906               3 Doors Down  2008          277   \n",
            "2343  Kid Cudi / MGMT / Ratatat  2010          288   \n",
            "\n",
            "                                                   song  \n",
            "9394                      Mister Jung Stuffed - Man Man  \n",
            "898                                          Ort - Cows  \n",
            "2398                  Suena tu guitarra - Fernando Soto  \n",
            "5906                    Let Me Be Myself - 3 Doors Down  \n",
            "2343  Pursuit Of Happiness (nightmare) - Kid Cudi / ...  \n"
          ]
        }
      ],
      "source": [
        "train_data, test_data = train_test_split(song_df, test_size = 0.20, random_state=0)\n",
        "print(train_data.head(5))\n",
        "print(\"\\n\\nTest\")\n",
        "print(test_data.head(5))"
      ]
    },
    {
      "cell_type": "markdown",
      "metadata": {
        "id": "-9J9qGlZ_6wV"
      },
      "source": [
        "## Simple popularity-based recommender class "
      ]
    },
    {
      "cell_type": "code",
      "execution_count": null,
      "metadata": {
        "jupyter": {
          "outputs_hidden": false
        },
        "id": "XEMGaQrn_6wW"
      },
      "outputs": [],
      "source": [
        "#Recommenders.popularity_recommender_py"
      ]
    },
    {
      "cell_type": "markdown",
      "metadata": {
        "id": "lNDhNXxp_6wW"
      },
      "source": [
        "### Create an instance of popularity based recommender class"
      ]
    },
    {
      "cell_type": "code",
      "execution_count": null,
      "metadata": {
        "jupyter": {
          "outputs_hidden": false
        },
        "id": "xvbjPTBF_6wW"
      },
      "outputs": [],
      "source": [
        "pm = Recommenders.popularity_recommender_py()\n",
        "pm.create(train_data, 'user_id', 'song')"
      ]
    },
    {
      "cell_type": "markdown",
      "metadata": {
        "id": "fGW6Kf_a_6wW"
      },
      "source": [
        "### Use the popularity model to make some predictions"
      ]
    },
    {
      "cell_type": "code",
      "execution_count": null,
      "metadata": {
        "jupyter": {
          "outputs_hidden": false
        },
        "id": "nqJWfd3O_6wX",
        "outputId": "7e23fdea-bb1e-419f-c6a7-b06bfa58d4ec"
      },
      "outputs": [
        {
          "data": {
            "text/html": [
              "<div>\n",
              "<style scoped>\n",
              "    .dataframe tbody tr th:only-of-type {\n",
              "        vertical-align: middle;\n",
              "    }\n",
              "\n",
              "    .dataframe tbody tr th {\n",
              "        vertical-align: top;\n",
              "    }\n",
              "\n",
              "    .dataframe thead th {\n",
              "        text-align: right;\n",
              "    }\n",
              "</style>\n",
              "<table border=\"1\" class=\"dataframe\">\n",
              "  <thead>\n",
              "    <tr style=\"text-align: right;\">\n",
              "      <th></th>\n",
              "      <th>user_id</th>\n",
              "      <th>song</th>\n",
              "      <th>score</th>\n",
              "      <th>Rank</th>\n",
              "    </tr>\n",
              "  </thead>\n",
              "  <tbody>\n",
              "    <tr>\n",
              "      <th>3194</th>\n",
              "      <td>4bd88bfb25263a75bbdd467e74018f4ae570e5df</td>\n",
              "      <td>Sehr kosmisch - Harmonia</td>\n",
              "      <td>37</td>\n",
              "      <td>1.0</td>\n",
              "    </tr>\n",
              "    <tr>\n",
              "      <th>4083</th>\n",
              "      <td>4bd88bfb25263a75bbdd467e74018f4ae570e5df</td>\n",
              "      <td>Undo - Björk</td>\n",
              "      <td>27</td>\n",
              "      <td>2.0</td>\n",
              "    </tr>\n",
              "    <tr>\n",
              "      <th>931</th>\n",
              "      <td>4bd88bfb25263a75bbdd467e74018f4ae570e5df</td>\n",
              "      <td>Dog Days Are Over (Radio Edit) - Florence + Th...</td>\n",
              "      <td>24</td>\n",
              "      <td>3.0</td>\n",
              "    </tr>\n",
              "    <tr>\n",
              "      <th>4443</th>\n",
              "      <td>4bd88bfb25263a75bbdd467e74018f4ae570e5df</td>\n",
              "      <td>You're The One - Dwight Yoakam</td>\n",
              "      <td>24</td>\n",
              "      <td>4.0</td>\n",
              "    </tr>\n",
              "    <tr>\n",
              "      <th>3034</th>\n",
              "      <td>4bd88bfb25263a75bbdd467e74018f4ae570e5df</td>\n",
              "      <td>Revelry - Kings Of Leon</td>\n",
              "      <td>21</td>\n",
              "      <td>5.0</td>\n",
              "    </tr>\n",
              "    <tr>\n",
              "      <th>3189</th>\n",
              "      <td>4bd88bfb25263a75bbdd467e74018f4ae570e5df</td>\n",
              "      <td>Secrets - OneRepublic</td>\n",
              "      <td>21</td>\n",
              "      <td>6.0</td>\n",
              "    </tr>\n",
              "    <tr>\n",
              "      <th>4112</th>\n",
              "      <td>4bd88bfb25263a75bbdd467e74018f4ae570e5df</td>\n",
              "      <td>Use Somebody - Kings Of Leon</td>\n",
              "      <td>21</td>\n",
              "      <td>7.0</td>\n",
              "    </tr>\n",
              "    <tr>\n",
              "      <th>1207</th>\n",
              "      <td>4bd88bfb25263a75bbdd467e74018f4ae570e5df</td>\n",
              "      <td>Fireflies - Charttraxx Karaoke</td>\n",
              "      <td>20</td>\n",
              "      <td>8.0</td>\n",
              "    </tr>\n",
              "    <tr>\n",
              "      <th>1577</th>\n",
              "      <td>4bd88bfb25263a75bbdd467e74018f4ae570e5df</td>\n",
              "      <td>Hey_ Soul Sister - Train</td>\n",
              "      <td>19</td>\n",
              "      <td>9.0</td>\n",
              "    </tr>\n",
              "    <tr>\n",
              "      <th>1626</th>\n",
              "      <td>4bd88bfb25263a75bbdd467e74018f4ae570e5df</td>\n",
              "      <td>Horn Concerto No. 4 in E flat K495: II. Romanc...</td>\n",
              "      <td>19</td>\n",
              "      <td>10.0</td>\n",
              "    </tr>\n",
              "  </tbody>\n",
              "</table>\n",
              "</div>"
            ],
            "text/plain": [
              "                                       user_id  \\\n",
              "3194  4bd88bfb25263a75bbdd467e74018f4ae570e5df   \n",
              "4083  4bd88bfb25263a75bbdd467e74018f4ae570e5df   \n",
              "931   4bd88bfb25263a75bbdd467e74018f4ae570e5df   \n",
              "4443  4bd88bfb25263a75bbdd467e74018f4ae570e5df   \n",
              "3034  4bd88bfb25263a75bbdd467e74018f4ae570e5df   \n",
              "3189  4bd88bfb25263a75bbdd467e74018f4ae570e5df   \n",
              "4112  4bd88bfb25263a75bbdd467e74018f4ae570e5df   \n",
              "1207  4bd88bfb25263a75bbdd467e74018f4ae570e5df   \n",
              "1577  4bd88bfb25263a75bbdd467e74018f4ae570e5df   \n",
              "1626  4bd88bfb25263a75bbdd467e74018f4ae570e5df   \n",
              "\n",
              "                                                   song  score  Rank  \n",
              "3194                           Sehr kosmisch - Harmonia     37   1.0  \n",
              "4083                                       Undo - Björk     27   2.0  \n",
              "931   Dog Days Are Over (Radio Edit) - Florence + Th...     24   3.0  \n",
              "4443                     You're The One - Dwight Yoakam     24   4.0  \n",
              "3034                            Revelry - Kings Of Leon     21   5.0  \n",
              "3189                              Secrets - OneRepublic     21   6.0  \n",
              "4112                       Use Somebody - Kings Of Leon     21   7.0  \n",
              "1207                     Fireflies - Charttraxx Karaoke     20   8.0  \n",
              "1577                           Hey_ Soul Sister - Train     19   9.0  \n",
              "1626  Horn Concerto No. 4 in E flat K495: II. Romanc...     19  10.0  "
            ]
          },
          "execution_count": 15,
          "metadata": {},
          "output_type": "execute_result"
        }
      ],
      "source": [
        "user_id = users[5]\n",
        "pm.recommend(user_id)"
      ]
    },
    {
      "cell_type": "markdown",
      "metadata": {
        "id": "e-Qz9Pkw_6wX"
      },
      "source": [
        "###  Use the popularity based model to make predictions for the following user id (Note the difference in recommendations from the first user id)."
      ]
    },
    {
      "cell_type": "code",
      "execution_count": null,
      "metadata": {
        "jupyter": {
          "outputs_hidden": false
        },
        "id": "LseL2Co1_6wX",
        "outputId": "8f86a752-11a6-4c21-d31e-1f4baeb16b3b"
      },
      "outputs": [
        {
          "data": {
            "text/html": [
              "<div>\n",
              "<style scoped>\n",
              "    .dataframe tbody tr th:only-of-type {\n",
              "        vertical-align: middle;\n",
              "    }\n",
              "\n",
              "    .dataframe tbody tr th {\n",
              "        vertical-align: top;\n",
              "    }\n",
              "\n",
              "    .dataframe thead th {\n",
              "        text-align: right;\n",
              "    }\n",
              "</style>\n",
              "<table border=\"1\" class=\"dataframe\">\n",
              "  <thead>\n",
              "    <tr style=\"text-align: right;\">\n",
              "      <th></th>\n",
              "      <th>user_id</th>\n",
              "      <th>song</th>\n",
              "      <th>score</th>\n",
              "      <th>Rank</th>\n",
              "    </tr>\n",
              "  </thead>\n",
              "  <tbody>\n",
              "    <tr>\n",
              "      <th>3194</th>\n",
              "      <td>9bb911319fbc04f01755814cb5edb21df3d1a336</td>\n",
              "      <td>Sehr kosmisch - Harmonia</td>\n",
              "      <td>37</td>\n",
              "      <td>1.0</td>\n",
              "    </tr>\n",
              "    <tr>\n",
              "      <th>4083</th>\n",
              "      <td>9bb911319fbc04f01755814cb5edb21df3d1a336</td>\n",
              "      <td>Undo - Björk</td>\n",
              "      <td>27</td>\n",
              "      <td>2.0</td>\n",
              "    </tr>\n",
              "    <tr>\n",
              "      <th>931</th>\n",
              "      <td>9bb911319fbc04f01755814cb5edb21df3d1a336</td>\n",
              "      <td>Dog Days Are Over (Radio Edit) - Florence + Th...</td>\n",
              "      <td>24</td>\n",
              "      <td>3.0</td>\n",
              "    </tr>\n",
              "    <tr>\n",
              "      <th>4443</th>\n",
              "      <td>9bb911319fbc04f01755814cb5edb21df3d1a336</td>\n",
              "      <td>You're The One - Dwight Yoakam</td>\n",
              "      <td>24</td>\n",
              "      <td>4.0</td>\n",
              "    </tr>\n",
              "    <tr>\n",
              "      <th>3034</th>\n",
              "      <td>9bb911319fbc04f01755814cb5edb21df3d1a336</td>\n",
              "      <td>Revelry - Kings Of Leon</td>\n",
              "      <td>21</td>\n",
              "      <td>5.0</td>\n",
              "    </tr>\n",
              "    <tr>\n",
              "      <th>3189</th>\n",
              "      <td>9bb911319fbc04f01755814cb5edb21df3d1a336</td>\n",
              "      <td>Secrets - OneRepublic</td>\n",
              "      <td>21</td>\n",
              "      <td>6.0</td>\n",
              "    </tr>\n",
              "    <tr>\n",
              "      <th>4112</th>\n",
              "      <td>9bb911319fbc04f01755814cb5edb21df3d1a336</td>\n",
              "      <td>Use Somebody - Kings Of Leon</td>\n",
              "      <td>21</td>\n",
              "      <td>7.0</td>\n",
              "    </tr>\n",
              "    <tr>\n",
              "      <th>1207</th>\n",
              "      <td>9bb911319fbc04f01755814cb5edb21df3d1a336</td>\n",
              "      <td>Fireflies - Charttraxx Karaoke</td>\n",
              "      <td>20</td>\n",
              "      <td>8.0</td>\n",
              "    </tr>\n",
              "    <tr>\n",
              "      <th>1577</th>\n",
              "      <td>9bb911319fbc04f01755814cb5edb21df3d1a336</td>\n",
              "      <td>Hey_ Soul Sister - Train</td>\n",
              "      <td>19</td>\n",
              "      <td>9.0</td>\n",
              "    </tr>\n",
              "    <tr>\n",
              "      <th>1626</th>\n",
              "      <td>9bb911319fbc04f01755814cb5edb21df3d1a336</td>\n",
              "      <td>Horn Concerto No. 4 in E flat K495: II. Romanc...</td>\n",
              "      <td>19</td>\n",
              "      <td>10.0</td>\n",
              "    </tr>\n",
              "  </tbody>\n",
              "</table>\n",
              "</div>"
            ],
            "text/plain": [
              "                                       user_id  \\\n",
              "3194  9bb911319fbc04f01755814cb5edb21df3d1a336   \n",
              "4083  9bb911319fbc04f01755814cb5edb21df3d1a336   \n",
              "931   9bb911319fbc04f01755814cb5edb21df3d1a336   \n",
              "4443  9bb911319fbc04f01755814cb5edb21df3d1a336   \n",
              "3034  9bb911319fbc04f01755814cb5edb21df3d1a336   \n",
              "3189  9bb911319fbc04f01755814cb5edb21df3d1a336   \n",
              "4112  9bb911319fbc04f01755814cb5edb21df3d1a336   \n",
              "1207  9bb911319fbc04f01755814cb5edb21df3d1a336   \n",
              "1577  9bb911319fbc04f01755814cb5edb21df3d1a336   \n",
              "1626  9bb911319fbc04f01755814cb5edb21df3d1a336   \n",
              "\n",
              "                                                   song  score  Rank  \n",
              "3194                           Sehr kosmisch - Harmonia     37   1.0  \n",
              "4083                                       Undo - Björk     27   2.0  \n",
              "931   Dog Days Are Over (Radio Edit) - Florence + Th...     24   3.0  \n",
              "4443                     You're The One - Dwight Yoakam     24   4.0  \n",
              "3034                            Revelry - Kings Of Leon     21   5.0  \n",
              "3189                              Secrets - OneRepublic     21   6.0  \n",
              "4112                       Use Somebody - Kings Of Leon     21   7.0  \n",
              "1207                     Fireflies - Charttraxx Karaoke     20   8.0  \n",
              "1577                           Hey_ Soul Sister - Train     19   9.0  \n",
              "1626  Horn Concerto No. 4 in E flat K495: II. Romanc...     19  10.0  "
            ]
          },
          "execution_count": 16,
          "metadata": {},
          "output_type": "execute_result"
        }
      ],
      "source": [
        "###Fill in the code here\n",
        "user_id = users[8]\n",
        "pm.recommend(user_id)\n"
      ]
    },
    {
      "cell_type": "markdown",
      "metadata": {
        "id": "HUHBxg_B_6wY"
      },
      "source": [
        "## Build a song recommender with personalization\n",
        "\n",
        "We now create an item similarity based collaborative filtering model that allows us to make personalized recommendations to each user. "
      ]
    },
    {
      "cell_type": "markdown",
      "metadata": {
        "id": "pY-BoPi__6wY"
      },
      "source": [
        "## Class for an item similarity based personalized recommender system "
      ]
    },
    {
      "cell_type": "code",
      "execution_count": null,
      "metadata": {
        "jupyter": {
          "outputs_hidden": false
        },
        "id": "MTAm1sNi_6wY"
      },
      "outputs": [],
      "source": [
        "#Recommenders.item_similarity_recommender_py"
      ]
    },
    {
      "cell_type": "markdown",
      "metadata": {
        "id": "fdHCIP6a_6wZ"
      },
      "source": [
        "### Create an instance of item similarity based recommender class"
      ]
    },
    {
      "cell_type": "code",
      "execution_count": null,
      "metadata": {
        "jupyter": {
          "outputs_hidden": false
        },
        "id": "EQ9SHMXi_6wZ"
      },
      "outputs": [],
      "source": [
        "is_model = Recommenders.item_similarity_recommender_py()\n",
        "is_model.create(train_data, 'user_id', 'song')"
      ]
    },
    {
      "cell_type": "markdown",
      "metadata": {
        "id": "1aKGrmou_6wZ"
      },
      "source": [
        "### Use the personalized model to make some song recommendations"
      ]
    },
    {
      "cell_type": "code",
      "execution_count": null,
      "metadata": {
        "scrolled": true,
        "id": "8_XFc5rt_6wa",
        "outputId": "6a2b87c7-e784-4225-a550-1f9183fdb157"
      },
      "outputs": [
        {
          "name": "stdout",
          "output_type": "stream",
          "text": [
            "------------------------------------------------------------------------------------\n",
            "Training data songs for the user userid: 4bd88bfb25263a75bbdd467e74018f4ae570e5df:\n",
            "------------------------------------------------------------------------------------\n",
            "Just Lose It - Eminem\n",
            "Without Me - Eminem\n",
            "16 Candles - The Crests\n",
            "Speechless - Lady GaGa\n",
            "Push It - Salt-N-Pepa\n",
            "Ghosts 'n' Stuff (Original Instrumental Mix) - Deadmau5\n",
            "Say My Name - Destiny's Child\n",
            "My Dad's Gone Crazy - Eminem / Hailie Jade\n",
            "The Real Slim Shady - Eminem\n",
            "Somebody To Love - Justin Bieber\n",
            "Forgive Me - Leona Lewis\n",
            "Missing You - John Waite\n",
            "Ya Nada Queda - Kudai\n",
            "----------------------------------------------------------------------\n",
            "Recommendation process going on:\n",
            "----------------------------------------------------------------------\n",
            "No. of unique songs for the user: 13\n",
            "no. of unique songs in the training set: 4483\n",
            "Non zero values in cooccurence_matrix :2097\n"
          ]
        },
        {
          "data": {
            "text/html": [
              "<div>\n",
              "<style scoped>\n",
              "    .dataframe tbody tr th:only-of-type {\n",
              "        vertical-align: middle;\n",
              "    }\n",
              "\n",
              "    .dataframe tbody tr th {\n",
              "        vertical-align: top;\n",
              "    }\n",
              "\n",
              "    .dataframe thead th {\n",
              "        text-align: right;\n",
              "    }\n",
              "</style>\n",
              "<table border=\"1\" class=\"dataframe\">\n",
              "  <thead>\n",
              "    <tr style=\"text-align: right;\">\n",
              "      <th></th>\n",
              "      <th>user_id</th>\n",
              "      <th>song</th>\n",
              "      <th>score</th>\n",
              "      <th>rank</th>\n",
              "    </tr>\n",
              "  </thead>\n",
              "  <tbody>\n",
              "    <tr>\n",
              "      <th>0</th>\n",
              "      <td>4bd88bfb25263a75bbdd467e74018f4ae570e5df</td>\n",
              "      <td>Superman - Eminem / Dina Rae</td>\n",
              "      <td>0.088692</td>\n",
              "      <td>1</td>\n",
              "    </tr>\n",
              "    <tr>\n",
              "      <th>1</th>\n",
              "      <td>4bd88bfb25263a75bbdd467e74018f4ae570e5df</td>\n",
              "      <td>Mockingbird - Eminem</td>\n",
              "      <td>0.067663</td>\n",
              "      <td>2</td>\n",
              "    </tr>\n",
              "    <tr>\n",
              "      <th>2</th>\n",
              "      <td>4bd88bfb25263a75bbdd467e74018f4ae570e5df</td>\n",
              "      <td>I'm Back - Eminem</td>\n",
              "      <td>0.065385</td>\n",
              "      <td>3</td>\n",
              "    </tr>\n",
              "    <tr>\n",
              "      <th>3</th>\n",
              "      <td>4bd88bfb25263a75bbdd467e74018f4ae570e5df</td>\n",
              "      <td>U Smile - Justin Bieber</td>\n",
              "      <td>0.064525</td>\n",
              "      <td>4</td>\n",
              "    </tr>\n",
              "    <tr>\n",
              "      <th>4</th>\n",
              "      <td>4bd88bfb25263a75bbdd467e74018f4ae570e5df</td>\n",
              "      <td>Here Without You - 3 Doors Down</td>\n",
              "      <td>0.062293</td>\n",
              "      <td>5</td>\n",
              "    </tr>\n",
              "    <tr>\n",
              "      <th>5</th>\n",
              "      <td>4bd88bfb25263a75bbdd467e74018f4ae570e5df</td>\n",
              "      <td>Hellbound - J-Black &amp; Masta Ace</td>\n",
              "      <td>0.055769</td>\n",
              "      <td>6</td>\n",
              "    </tr>\n",
              "    <tr>\n",
              "      <th>6</th>\n",
              "      <td>4bd88bfb25263a75bbdd467e74018f4ae570e5df</td>\n",
              "      <td>The Seed (2.0) - The Roots / Cody Chestnutt</td>\n",
              "      <td>0.052564</td>\n",
              "      <td>7</td>\n",
              "    </tr>\n",
              "    <tr>\n",
              "      <th>7</th>\n",
              "      <td>4bd88bfb25263a75bbdd467e74018f4ae570e5df</td>\n",
              "      <td>I'm The One Who Understands (Edit Version) - War</td>\n",
              "      <td>0.052564</td>\n",
              "      <td>8</td>\n",
              "    </tr>\n",
              "    <tr>\n",
              "      <th>8</th>\n",
              "      <td>4bd88bfb25263a75bbdd467e74018f4ae570e5df</td>\n",
              "      <td>Falling - Iration</td>\n",
              "      <td>0.052564</td>\n",
              "      <td>9</td>\n",
              "    </tr>\n",
              "    <tr>\n",
              "      <th>9</th>\n",
              "      <td>4bd88bfb25263a75bbdd467e74018f4ae570e5df</td>\n",
              "      <td>Armed And Ready (2009 Digital Remaster) - The ...</td>\n",
              "      <td>0.052564</td>\n",
              "      <td>10</td>\n",
              "    </tr>\n",
              "  </tbody>\n",
              "</table>\n",
              "</div>"
            ],
            "text/plain": [
              "                                    user_id  \\\n",
              "0  4bd88bfb25263a75bbdd467e74018f4ae570e5df   \n",
              "1  4bd88bfb25263a75bbdd467e74018f4ae570e5df   \n",
              "2  4bd88bfb25263a75bbdd467e74018f4ae570e5df   \n",
              "3  4bd88bfb25263a75bbdd467e74018f4ae570e5df   \n",
              "4  4bd88bfb25263a75bbdd467e74018f4ae570e5df   \n",
              "5  4bd88bfb25263a75bbdd467e74018f4ae570e5df   \n",
              "6  4bd88bfb25263a75bbdd467e74018f4ae570e5df   \n",
              "7  4bd88bfb25263a75bbdd467e74018f4ae570e5df   \n",
              "8  4bd88bfb25263a75bbdd467e74018f4ae570e5df   \n",
              "9  4bd88bfb25263a75bbdd467e74018f4ae570e5df   \n",
              "\n",
              "                                                song     score rank  \n",
              "0                       Superman - Eminem / Dina Rae  0.088692    1  \n",
              "1                               Mockingbird - Eminem  0.067663    2  \n",
              "2                                  I'm Back - Eminem  0.065385    3  \n",
              "3                            U Smile - Justin Bieber  0.064525    4  \n",
              "4                    Here Without You - 3 Doors Down  0.062293    5  \n",
              "5                    Hellbound - J-Black & Masta Ace  0.055769    6  \n",
              "6        The Seed (2.0) - The Roots / Cody Chestnutt  0.052564    7  \n",
              "7   I'm The One Who Understands (Edit Version) - War  0.052564    8  \n",
              "8                                  Falling - Iration  0.052564    9  \n",
              "9  Armed And Ready (2009 Digital Remaster) - The ...  0.052564   10  "
            ]
          },
          "execution_count": 19,
          "metadata": {},
          "output_type": "execute_result"
        }
      ],
      "source": [
        "#Print the songs for the user in training data\n",
        "user_id = users[5]\n",
        "user_items = is_model.get_user_items(user_id)\n",
        "#\n",
        "print(\"------------------------------------------------------------------------------------\")\n",
        "print(\"Training data songs for the user userid: %s:\" % user_id)\n",
        "print(\"------------------------------------------------------------------------------------\")\n",
        "\n",
        "for user_item in user_items:\n",
        "    print(user_item)\n",
        "\n",
        "print(\"----------------------------------------------------------------------\")\n",
        "print(\"Recommendation process going on:\")\n",
        "print(\"----------------------------------------------------------------------\")\n",
        "\n",
        "#Recommend songs for the user using personalized model\n",
        "is_model.recommend(user_id)"
      ]
    },
    {
      "cell_type": "markdown",
      "metadata": {
        "id": "_1YWe1p2_6wa"
      },
      "source": [
        "### Use the personalized model to make some song recommendations"
      ]
    },
    {
      "cell_type": "code",
      "execution_count": null,
      "metadata": {
        "id": "u8eBnAxZ_6wa",
        "outputId": "4c45b340-72dc-46d2-fabd-3212279e2db4"
      },
      "outputs": [
        {
          "name": "stdout",
          "output_type": "stream",
          "text": [
            "------------------------------------------------------------------------------------\n",
            "Training data songs for the user userid: 9d6f0ead607ac2a6c2460e4d14fb439a146b7dec:\n",
            "------------------------------------------------------------------------------------\n",
            "Swallowed In The Sea - Coldplay\n",
            "Life In Technicolor ii - Coldplay\n",
            "Life In Technicolor - Coldplay\n",
            "The Scientist - Coldplay\n",
            "Trouble - Coldplay\n",
            "Strawberry Swing - Coldplay\n",
            "Lost! - Coldplay\n",
            "Clocks - Coldplay\n",
            "----------------------------------------------------------------------\n",
            "Recommendation process going on:\n",
            "----------------------------------------------------------------------\n",
            "No. of unique songs for the user: 8\n",
            "no. of unique songs in the training set: 4483\n",
            "Non zero values in cooccurence_matrix :3429\n"
          ]
        },
        {
          "data": {
            "text/html": [
              "<div>\n",
              "<style scoped>\n",
              "    .dataframe tbody tr th:only-of-type {\n",
              "        vertical-align: middle;\n",
              "    }\n",
              "\n",
              "    .dataframe tbody tr th {\n",
              "        vertical-align: top;\n",
              "    }\n",
              "\n",
              "    .dataframe thead th {\n",
              "        text-align: right;\n",
              "    }\n",
              "</style>\n",
              "<table border=\"1\" class=\"dataframe\">\n",
              "  <thead>\n",
              "    <tr style=\"text-align: right;\">\n",
              "      <th></th>\n",
              "      <th>user_id</th>\n",
              "      <th>song</th>\n",
              "      <th>score</th>\n",
              "      <th>rank</th>\n",
              "    </tr>\n",
              "  </thead>\n",
              "  <tbody>\n",
              "    <tr>\n",
              "      <th>0</th>\n",
              "      <td>9d6f0ead607ac2a6c2460e4d14fb439a146b7dec</td>\n",
              "      <td>She Just Likes To Fight - Four Tet</td>\n",
              "      <td>0.281579</td>\n",
              "      <td>1</td>\n",
              "    </tr>\n",
              "    <tr>\n",
              "      <th>1</th>\n",
              "      <td>9d6f0ead607ac2a6c2460e4d14fb439a146b7dec</td>\n",
              "      <td>Warning Sign - Coldplay</td>\n",
              "      <td>0.281579</td>\n",
              "      <td>2</td>\n",
              "    </tr>\n",
              "    <tr>\n",
              "      <th>2</th>\n",
              "      <td>9d6f0ead607ac2a6c2460e4d14fb439a146b7dec</td>\n",
              "      <td>We Never Change - Coldplay</td>\n",
              "      <td>0.281579</td>\n",
              "      <td>3</td>\n",
              "    </tr>\n",
              "    <tr>\n",
              "      <th>3</th>\n",
              "      <td>9d6f0ead607ac2a6c2460e4d14fb439a146b7dec</td>\n",
              "      <td>Puppetmad - Puppetmastaz</td>\n",
              "      <td>0.281579</td>\n",
              "      <td>4</td>\n",
              "    </tr>\n",
              "    <tr>\n",
              "      <th>4</th>\n",
              "      <td>9d6f0ead607ac2a6c2460e4d14fb439a146b7dec</td>\n",
              "      <td>God Put A Smile Upon Your Face - Coldplay</td>\n",
              "      <td>0.281579</td>\n",
              "      <td>5</td>\n",
              "    </tr>\n",
              "    <tr>\n",
              "      <th>5</th>\n",
              "      <td>9d6f0ead607ac2a6c2460e4d14fb439a146b7dec</td>\n",
              "      <td>Susie Q - Creedence Clearwater Revival</td>\n",
              "      <td>0.281579</td>\n",
              "      <td>6</td>\n",
              "    </tr>\n",
              "    <tr>\n",
              "      <th>6</th>\n",
              "      <td>9d6f0ead607ac2a6c2460e4d14fb439a146b7dec</td>\n",
              "      <td>The Joker - Fatboy Slim</td>\n",
              "      <td>0.281579</td>\n",
              "      <td>7</td>\n",
              "    </tr>\n",
              "    <tr>\n",
              "      <th>7</th>\n",
              "      <td>9d6f0ead607ac2a6c2460e4d14fb439a146b7dec</td>\n",
              "      <td>Korg Rhythm Afro - Holy Fuck</td>\n",
              "      <td>0.281579</td>\n",
              "      <td>8</td>\n",
              "    </tr>\n",
              "    <tr>\n",
              "      <th>8</th>\n",
              "      <td>9d6f0ead607ac2a6c2460e4d14fb439a146b7dec</td>\n",
              "      <td>This Unfolds - Four Tet</td>\n",
              "      <td>0.281579</td>\n",
              "      <td>9</td>\n",
              "    </tr>\n",
              "    <tr>\n",
              "      <th>9</th>\n",
              "      <td>9d6f0ead607ac2a6c2460e4d14fb439a146b7dec</td>\n",
              "      <td>high fives - Four Tet</td>\n",
              "      <td>0.281579</td>\n",
              "      <td>10</td>\n",
              "    </tr>\n",
              "  </tbody>\n",
              "</table>\n",
              "</div>"
            ],
            "text/plain": [
              "                                    user_id  \\\n",
              "0  9d6f0ead607ac2a6c2460e4d14fb439a146b7dec   \n",
              "1  9d6f0ead607ac2a6c2460e4d14fb439a146b7dec   \n",
              "2  9d6f0ead607ac2a6c2460e4d14fb439a146b7dec   \n",
              "3  9d6f0ead607ac2a6c2460e4d14fb439a146b7dec   \n",
              "4  9d6f0ead607ac2a6c2460e4d14fb439a146b7dec   \n",
              "5  9d6f0ead607ac2a6c2460e4d14fb439a146b7dec   \n",
              "6  9d6f0ead607ac2a6c2460e4d14fb439a146b7dec   \n",
              "7  9d6f0ead607ac2a6c2460e4d14fb439a146b7dec   \n",
              "8  9d6f0ead607ac2a6c2460e4d14fb439a146b7dec   \n",
              "9  9d6f0ead607ac2a6c2460e4d14fb439a146b7dec   \n",
              "\n",
              "                                        song     score rank  \n",
              "0         She Just Likes To Fight - Four Tet  0.281579    1  \n",
              "1                    Warning Sign - Coldplay  0.281579    2  \n",
              "2                 We Never Change - Coldplay  0.281579    3  \n",
              "3                   Puppetmad - Puppetmastaz  0.281579    4  \n",
              "4  God Put A Smile Upon Your Face - Coldplay  0.281579    5  \n",
              "5     Susie Q - Creedence Clearwater Revival  0.281579    6  \n",
              "6                    The Joker - Fatboy Slim  0.281579    7  \n",
              "7               Korg Rhythm Afro - Holy Fuck  0.281579    8  \n",
              "8                    This Unfolds - Four Tet  0.281579    9  \n",
              "9                      high fives - Four Tet  0.281579   10  "
            ]
          },
          "execution_count": 20,
          "metadata": {},
          "output_type": "execute_result"
        }
      ],
      "source": [
        "user_id = users[7]\n",
        "#Fill in the code here\n",
        "user_items = is_model.get_user_items(user_id)\n",
        "#\n",
        "print(\"------------------------------------------------------------------------------------\")\n",
        "print(\"Training data songs for the user userid: %s:\" % user_id)\n",
        "print(\"------------------------------------------------------------------------------------\")\n",
        "\n",
        "for user_item in user_items:\n",
        "    print(user_item)\n",
        "\n",
        "print(\"----------------------------------------------------------------------\")\n",
        "print(\"Recommendation process going on:\")\n",
        "print(\"----------------------------------------------------------------------\")\n",
        "\n",
        "#Recommend songs for the user using personalized model\n",
        "is_model.recommend(user_id)"
      ]
    },
    {
      "cell_type": "markdown",
      "metadata": {
        "id": "CQVmJnx7_6wb"
      },
      "source": [
        "## We can also apply the model to find similar songs to any song in the dataset"
      ]
    },
    {
      "cell_type": "code",
      "execution_count": null,
      "metadata": {
        "id": "sxcnMVfw_6wb",
        "outputId": "b8f1bfcd-3646-4baf-9ebc-62077b978b24"
      },
      "outputs": [
        {
          "name": "stdout",
          "output_type": "stream",
          "text": [
            "no. of unique songs in the training set: 4483\n",
            "Non zero values in cooccurence_matrix :324\n"
          ]
        }
      ],
      "source": [
        "df_rec = is_model.get_similar_items(['Puppetmad - Puppetmastaz'])"
      ]
    },
    {
      "cell_type": "code",
      "execution_count": null,
      "metadata": {
        "id": "D36_vFcp_6wb",
        "outputId": "516fff91-4d01-449c-9d1c-9d7988508f3b"
      },
      "outputs": [
        {
          "data": {
            "text/html": [
              "<div>\n",
              "<style scoped>\n",
              "    .dataframe tbody tr th:only-of-type {\n",
              "        vertical-align: middle;\n",
              "    }\n",
              "\n",
              "    .dataframe tbody tr th {\n",
              "        vertical-align: top;\n",
              "    }\n",
              "\n",
              "    .dataframe thead th {\n",
              "        text-align: right;\n",
              "    }\n",
              "</style>\n",
              "<table border=\"1\" class=\"dataframe\">\n",
              "  <thead>\n",
              "    <tr style=\"text-align: right;\">\n",
              "      <th></th>\n",
              "      <th>user_id</th>\n",
              "      <th>song</th>\n",
              "      <th>score</th>\n",
              "      <th>rank</th>\n",
              "    </tr>\n",
              "  </thead>\n",
              "  <tbody>\n",
              "    <tr>\n",
              "      <th>0</th>\n",
              "      <td></td>\n",
              "      <td>She Just Likes To Fight - Four Tet</td>\n",
              "      <td>1.0</td>\n",
              "      <td>1</td>\n",
              "    </tr>\n",
              "    <tr>\n",
              "      <th>1</th>\n",
              "      <td></td>\n",
              "      <td>Warning Sign - Coldplay</td>\n",
              "      <td>1.0</td>\n",
              "      <td>2</td>\n",
              "    </tr>\n",
              "    <tr>\n",
              "      <th>2</th>\n",
              "      <td></td>\n",
              "      <td>Puppetmad - Puppetmastaz</td>\n",
              "      <td>1.0</td>\n",
              "      <td>3</td>\n",
              "    </tr>\n",
              "    <tr>\n",
              "      <th>3</th>\n",
              "      <td></td>\n",
              "      <td>God Put A Smile Upon Your Face - Coldplay</td>\n",
              "      <td>1.0</td>\n",
              "      <td>4</td>\n",
              "    </tr>\n",
              "    <tr>\n",
              "      <th>4</th>\n",
              "      <td></td>\n",
              "      <td>Susie Q - Creedence Clearwater Revival</td>\n",
              "      <td>1.0</td>\n",
              "      <td>5</td>\n",
              "    </tr>\n",
              "    <tr>\n",
              "      <th>5</th>\n",
              "      <td></td>\n",
              "      <td>The Joker - Fatboy Slim</td>\n",
              "      <td>1.0</td>\n",
              "      <td>6</td>\n",
              "    </tr>\n",
              "    <tr>\n",
              "      <th>6</th>\n",
              "      <td></td>\n",
              "      <td>Korg Rhythm Afro - Holy Fuck</td>\n",
              "      <td>1.0</td>\n",
              "      <td>7</td>\n",
              "    </tr>\n",
              "    <tr>\n",
              "      <th>7</th>\n",
              "      <td></td>\n",
              "      <td>This Unfolds - Four Tet</td>\n",
              "      <td>1.0</td>\n",
              "      <td>8</td>\n",
              "    </tr>\n",
              "    <tr>\n",
              "      <th>8</th>\n",
              "      <td></td>\n",
              "      <td>high fives - Four Tet</td>\n",
              "      <td>1.0</td>\n",
              "      <td>9</td>\n",
              "    </tr>\n",
              "    <tr>\n",
              "      <th>9</th>\n",
              "      <td></td>\n",
              "      <td>Camel - Flying Lotus</td>\n",
              "      <td>1.0</td>\n",
              "      <td>10</td>\n",
              "    </tr>\n",
              "  </tbody>\n",
              "</table>\n",
              "</div>"
            ],
            "text/plain": [
              "  user_id                                       song  score rank\n",
              "0                 She Just Likes To Fight - Four Tet    1.0    1\n",
              "1                            Warning Sign - Coldplay    1.0    2\n",
              "2                           Puppetmad - Puppetmastaz    1.0    3\n",
              "3          God Put A Smile Upon Your Face - Coldplay    1.0    4\n",
              "4             Susie Q - Creedence Clearwater Revival    1.0    5\n",
              "5                            The Joker - Fatboy Slim    1.0    6\n",
              "6                       Korg Rhythm Afro - Holy Fuck    1.0    7\n",
              "7                            This Unfolds - Four Tet    1.0    8\n",
              "8                              high fives - Four Tet    1.0    9\n",
              "9                               Camel - Flying Lotus    1.0   10"
            ]
          },
          "execution_count": 22,
          "metadata": {},
          "output_type": "execute_result"
        }
      ],
      "source": [
        "df_rec"
      ]
    },
    {
      "cell_type": "code",
      "execution_count": null,
      "metadata": {
        "id": "I8S-0Xgp_6wc",
        "outputId": "66f5df38-ea7b-4ea6-9b6d-bbda0950464e"
      },
      "outputs": [
        {
          "data": {
            "text/html": [
              "<div>\n",
              "<style scoped>\n",
              "    .dataframe tbody tr th:only-of-type {\n",
              "        vertical-align: middle;\n",
              "    }\n",
              "\n",
              "    .dataframe tbody tr th {\n",
              "        vertical-align: top;\n",
              "    }\n",
              "\n",
              "    .dataframe thead th {\n",
              "        text-align: right;\n",
              "    }\n",
              "</style>\n",
              "<table border=\"1\" class=\"dataframe\">\n",
              "  <thead>\n",
              "    <tr style=\"text-align: right;\">\n",
              "      <th></th>\n",
              "      <th>user_id</th>\n",
              "      <th>song_id</th>\n",
              "      <th>listen_count</th>\n",
              "      <th>title</th>\n",
              "      <th>release</th>\n",
              "      <th>artist_name</th>\n",
              "      <th>year</th>\n",
              "      <th>temperature</th>\n",
              "      <th>song</th>\n",
              "    </tr>\n",
              "  </thead>\n",
              "  <tbody>\n",
              "    <tr>\n",
              "      <th>0</th>\n",
              "      <td>b80344d063b5ccb3212f76538f3d9e43d87dca9e</td>\n",
              "      <td>SOAKIMP12A8C130995</td>\n",
              "      <td>1</td>\n",
              "      <td>The Cove</td>\n",
              "      <td>Thicker Than Water</td>\n",
              "      <td>Jack Johnson</td>\n",
              "      <td>0</td>\n",
              "      <td>308</td>\n",
              "      <td>The Cove - Jack Johnson</td>\n",
              "    </tr>\n",
              "    <tr>\n",
              "      <th>1</th>\n",
              "      <td>b80344d063b5ccb3212f76538f3d9e43d87dca9e</td>\n",
              "      <td>SOBBMDR12A8C13253B</td>\n",
              "      <td>2</td>\n",
              "      <td>Entre Dos Aguas</td>\n",
              "      <td>Flamenco Para Niños</td>\n",
              "      <td>Paco De Lucia</td>\n",
              "      <td>1976</td>\n",
              "      <td>298</td>\n",
              "      <td>Entre Dos Aguas - Paco De Lucia</td>\n",
              "    </tr>\n",
              "    <tr>\n",
              "      <th>2</th>\n",
              "      <td>b80344d063b5ccb3212f76538f3d9e43d87dca9e</td>\n",
              "      <td>SOBXHDL12A81C204C0</td>\n",
              "      <td>1</td>\n",
              "      <td>Stronger</td>\n",
              "      <td>Graduation</td>\n",
              "      <td>Kanye West</td>\n",
              "      <td>2007</td>\n",
              "      <td>300</td>\n",
              "      <td>Stronger - Kanye West</td>\n",
              "    </tr>\n",
              "    <tr>\n",
              "      <th>3</th>\n",
              "      <td>b80344d063b5ccb3212f76538f3d9e43d87dca9e</td>\n",
              "      <td>SOBYHAJ12A6701BF1D</td>\n",
              "      <td>1</td>\n",
              "      <td>Constellations</td>\n",
              "      <td>In Between Dreams</td>\n",
              "      <td>Jack Johnson</td>\n",
              "      <td>2005</td>\n",
              "      <td>307</td>\n",
              "      <td>Constellations - Jack Johnson</td>\n",
              "    </tr>\n",
              "    <tr>\n",
              "      <th>4</th>\n",
              "      <td>b80344d063b5ccb3212f76538f3d9e43d87dca9e</td>\n",
              "      <td>SODACBL12A8C13C273</td>\n",
              "      <td>1</td>\n",
              "      <td>Learn To Fly</td>\n",
              "      <td>There Is Nothing Left To Lose</td>\n",
              "      <td>Foo Fighters</td>\n",
              "      <td>1999</td>\n",
              "      <td>284</td>\n",
              "      <td>Learn To Fly - Foo Fighters</td>\n",
              "    </tr>\n",
              "    <tr>\n",
              "      <th>...</th>\n",
              "      <td>...</td>\n",
              "      <td>...</td>\n",
              "      <td>...</td>\n",
              "      <td>...</td>\n",
              "      <td>...</td>\n",
              "      <td>...</td>\n",
              "      <td>...</td>\n",
              "      <td>...</td>\n",
              "      <td>...</td>\n",
              "    </tr>\n",
              "    <tr>\n",
              "      <th>9995</th>\n",
              "      <td>15cc706a7f24975ca831aaaf297bf0392746b3fe</td>\n",
              "      <td>SOFSETB12A8C134038</td>\n",
              "      <td>2</td>\n",
              "      <td>Show Me How To Live</td>\n",
              "      <td>Audioslave</td>\n",
              "      <td>Audioslave</td>\n",
              "      <td>2002</td>\n",
              "      <td>300</td>\n",
              "      <td>Show Me How To Live - Audioslave</td>\n",
              "    </tr>\n",
              "    <tr>\n",
              "      <th>9996</th>\n",
              "      <td>15cc706a7f24975ca831aaaf297bf0392746b3fe</td>\n",
              "      <td>SOHIROU12AB01852AF</td>\n",
              "      <td>5</td>\n",
              "      <td>Billy Liar</td>\n",
              "      <td>Billy Liar (CD-Single)</td>\n",
              "      <td>The Decemberists</td>\n",
              "      <td>2003</td>\n",
              "      <td>298</td>\n",
              "      <td>Billy Liar - The Decemberists</td>\n",
              "    </tr>\n",
              "    <tr>\n",
              "      <th>9997</th>\n",
              "      <td>15cc706a7f24975ca831aaaf297bf0392746b3fe</td>\n",
              "      <td>SOOAVGC12AB01821EC</td>\n",
              "      <td>5</td>\n",
              "      <td>The Bachelor and the Bride</td>\n",
              "      <td>Her Majesty The Decemberists</td>\n",
              "      <td>The Decemberists</td>\n",
              "      <td>2003</td>\n",
              "      <td>292</td>\n",
              "      <td>The Bachelor and the Bride - The Decemberists</td>\n",
              "    </tr>\n",
              "    <tr>\n",
              "      <th>9998</th>\n",
              "      <td>15cc706a7f24975ca831aaaf297bf0392746b3fe</td>\n",
              "      <td>SOPKEIV12AB018220D</td>\n",
              "      <td>5</td>\n",
              "      <td>Red Right Ankle</td>\n",
              "      <td>Her Majesty The Decemberists</td>\n",
              "      <td>The Decemberists</td>\n",
              "      <td>2003</td>\n",
              "      <td>283</td>\n",
              "      <td>Red Right Ankle - The Decemberists</td>\n",
              "    </tr>\n",
              "    <tr>\n",
              "      <th>9999</th>\n",
              "      <td>15cc706a7f24975ca831aaaf297bf0392746b3fe</td>\n",
              "      <td>SOQSUMQ12AB01821F7</td>\n",
              "      <td>5</td>\n",
              "      <td>Song for Myla Goldberg</td>\n",
              "      <td>Her Majesty The Decemberists</td>\n",
              "      <td>The Decemberists</td>\n",
              "      <td>2003</td>\n",
              "      <td>300</td>\n",
              "      <td>Song for Myla Goldberg - The Decemberists</td>\n",
              "    </tr>\n",
              "  </tbody>\n",
              "</table>\n",
              "<p>10000 rows × 9 columns</p>\n",
              "</div>"
            ],
            "text/plain": [
              "                                       user_id             song_id  \\\n",
              "0     b80344d063b5ccb3212f76538f3d9e43d87dca9e  SOAKIMP12A8C130995   \n",
              "1     b80344d063b5ccb3212f76538f3d9e43d87dca9e  SOBBMDR12A8C13253B   \n",
              "2     b80344d063b5ccb3212f76538f3d9e43d87dca9e  SOBXHDL12A81C204C0   \n",
              "3     b80344d063b5ccb3212f76538f3d9e43d87dca9e  SOBYHAJ12A6701BF1D   \n",
              "4     b80344d063b5ccb3212f76538f3d9e43d87dca9e  SODACBL12A8C13C273   \n",
              "...                                        ...                 ...   \n",
              "9995  15cc706a7f24975ca831aaaf297bf0392746b3fe  SOFSETB12A8C134038   \n",
              "9996  15cc706a7f24975ca831aaaf297bf0392746b3fe  SOHIROU12AB01852AF   \n",
              "9997  15cc706a7f24975ca831aaaf297bf0392746b3fe  SOOAVGC12AB01821EC   \n",
              "9998  15cc706a7f24975ca831aaaf297bf0392746b3fe  SOPKEIV12AB018220D   \n",
              "9999  15cc706a7f24975ca831aaaf297bf0392746b3fe  SOQSUMQ12AB01821F7   \n",
              "\n",
              "      listen_count                       title                        release  \\\n",
              "0                1                    The Cove             Thicker Than Water   \n",
              "1                2             Entre Dos Aguas            Flamenco Para Niños   \n",
              "2                1                    Stronger                     Graduation   \n",
              "3                1              Constellations              In Between Dreams   \n",
              "4                1                Learn To Fly  There Is Nothing Left To Lose   \n",
              "...            ...                         ...                            ...   \n",
              "9995             2         Show Me How To Live                     Audioslave   \n",
              "9996             5                  Billy Liar         Billy Liar (CD-Single)   \n",
              "9997             5  The Bachelor and the Bride   Her Majesty The Decemberists   \n",
              "9998             5             Red Right Ankle   Her Majesty The Decemberists   \n",
              "9999             5      Song for Myla Goldberg   Her Majesty The Decemberists   \n",
              "\n",
              "           artist_name  year  temperature  \\\n",
              "0         Jack Johnson     0          308   \n",
              "1        Paco De Lucia  1976          298   \n",
              "2           Kanye West  2007          300   \n",
              "3         Jack Johnson  2005          307   \n",
              "4         Foo Fighters  1999          284   \n",
              "...                ...   ...          ...   \n",
              "9995        Audioslave  2002          300   \n",
              "9996  The Decemberists  2003          298   \n",
              "9997  The Decemberists  2003          292   \n",
              "9998  The Decemberists  2003          283   \n",
              "9999  The Decemberists  2003          300   \n",
              "\n",
              "                                               song  \n",
              "0                           The Cove - Jack Johnson  \n",
              "1                   Entre Dos Aguas - Paco De Lucia  \n",
              "2                             Stronger - Kanye West  \n",
              "3                     Constellations - Jack Johnson  \n",
              "4                       Learn To Fly - Foo Fighters  \n",
              "...                                             ...  \n",
              "9995               Show Me How To Live - Audioslave  \n",
              "9996                  Billy Liar - The Decemberists  \n",
              "9997  The Bachelor and the Bride - The Decemberists  \n",
              "9998             Red Right Ankle - The Decemberists  \n",
              "9999      Song for Myla Goldberg - The Decemberists  \n",
              "\n",
              "[10000 rows x 9 columns]"
            ]
          },
          "execution_count": 23,
          "metadata": {},
          "output_type": "execute_result"
        }
      ],
      "source": [
        "song_df"
      ]
    },
    {
      "cell_type": "code",
      "execution_count": null,
      "metadata": {
        "scrolled": true,
        "id": "u7b_Ovly_6wc",
        "outputId": "da7e1c9c-3d6d-438a-f1be-cd8c3f527695"
      },
      "outputs": [
        {
          "data": {
            "text/html": [
              "<div>\n",
              "<style scoped>\n",
              "    .dataframe tbody tr th:only-of-type {\n",
              "        vertical-align: middle;\n",
              "    }\n",
              "\n",
              "    .dataframe tbody tr th {\n",
              "        vertical-align: top;\n",
              "    }\n",
              "\n",
              "    .dataframe thead th {\n",
              "        text-align: right;\n",
              "    }\n",
              "</style>\n",
              "<table border=\"1\" class=\"dataframe\">\n",
              "  <thead>\n",
              "    <tr style=\"text-align: right;\">\n",
              "      <th></th>\n",
              "      <th>user_id</th>\n",
              "      <th>song_id</th>\n",
              "      <th>listen_count</th>\n",
              "      <th>title</th>\n",
              "      <th>release</th>\n",
              "      <th>artist_name</th>\n",
              "      <th>year</th>\n",
              "      <th>temperature</th>\n",
              "      <th>song</th>\n",
              "    </tr>\n",
              "  </thead>\n",
              "  <tbody>\n",
              "    <tr>\n",
              "      <th>705</th>\n",
              "      <td>5a905f000fc1ff3df7ca807d57edb608863db05d</td>\n",
              "      <td>SOWNVRT12AB0188CA6</td>\n",
              "      <td>1</td>\n",
              "      <td>She Just Likes To Fight</td>\n",
              "      <td>There Is Love In You</td>\n",
              "      <td>Four Tet</td>\n",
              "      <td>2010</td>\n",
              "      <td>293</td>\n",
              "      <td>She Just Likes To Fight - Four Tet</td>\n",
              "    </tr>\n",
              "  </tbody>\n",
              "</table>\n",
              "</div>"
            ],
            "text/plain": [
              "                                      user_id             song_id  \\\n",
              "705  5a905f000fc1ff3df7ca807d57edb608863db05d  SOWNVRT12AB0188CA6   \n",
              "\n",
              "     listen_count                    title               release artist_name  \\\n",
              "705             1  She Just Likes To Fight  There Is Love In You    Four Tet   \n",
              "\n",
              "     year  temperature                                song  \n",
              "705  2010          293  She Just Likes To Fight - Four Tet  "
            ]
          },
          "execution_count": 24,
          "metadata": {},
          "output_type": "execute_result"
        }
      ],
      "source": [
        "song_df[song_df['song']=='She Just Likes To Fight - Four Tet']"
      ]
    },
    {
      "cell_type": "code",
      "execution_count": null,
      "metadata": {
        "scrolled": true,
        "id": "jfzMJCW3_6wc",
        "outputId": "e6c5e253-0e90-475c-fe3d-bfd22b771c9a"
      },
      "outputs": [
        {
          "name": "stdout",
          "output_type": "stream",
          "text": [
            "292.24\n"
          ]
        },
        {
          "data": {
            "text/html": [
              "<div>\n",
              "<style scoped>\n",
              "    .dataframe tbody tr th:only-of-type {\n",
              "        vertical-align: middle;\n",
              "    }\n",
              "\n",
              "    .dataframe tbody tr th {\n",
              "        vertical-align: top;\n",
              "    }\n",
              "\n",
              "    .dataframe thead th {\n",
              "        text-align: right;\n",
              "    }\n",
              "</style>\n",
              "<table border=\"1\" class=\"dataframe\">\n",
              "  <thead>\n",
              "    <tr style=\"text-align: right;\">\n",
              "      <th></th>\n",
              "      <th>user_id</th>\n",
              "      <th>song_id</th>\n",
              "      <th>listen_count</th>\n",
              "      <th>title</th>\n",
              "      <th>release</th>\n",
              "      <th>artist_name</th>\n",
              "      <th>year</th>\n",
              "      <th>temperature</th>\n",
              "      <th>song</th>\n",
              "      <th>dist</th>\n",
              "    </tr>\n",
              "  </thead>\n",
              "  <tbody>\n",
              "    <tr>\n",
              "      <th>705</th>\n",
              "      <td>5a905f000fc1ff3df7ca807d57edb608863db05d</td>\n",
              "      <td>SOWNVRT12AB0188CA6</td>\n",
              "      <td>1</td>\n",
              "      <td>She Just Likes To Fight</td>\n",
              "      <td>There Is Love In You</td>\n",
              "      <td>Four Tet</td>\n",
              "      <td>2010</td>\n",
              "      <td>293</td>\n",
              "      <td>She Just Likes To Fight - Four Tet</td>\n",
              "      <td>0.76</td>\n",
              "    </tr>\n",
              "    <tr>\n",
              "      <th>537</th>\n",
              "      <td>5a905f000fc1ff3df7ca807d57edb608863db05d</td>\n",
              "      <td>SOMJFPG12A58A7DD95</td>\n",
              "      <td>2</td>\n",
              "      <td>Warning Sign</td>\n",
              "      <td>A Rush Of Blood To The Head</td>\n",
              "      <td>Coldplay</td>\n",
              "      <td>2002</td>\n",
              "      <td>290</td>\n",
              "      <td>Warning Sign - Coldplay</td>\n",
              "      <td>2.24</td>\n",
              "    </tr>\n",
              "    <tr>\n",
              "      <th>387</th>\n",
              "      <td>5a905f000fc1ff3df7ca807d57edb608863db05d</td>\n",
              "      <td>SOCJHXN12AB0188C8B</td>\n",
              "      <td>2</td>\n",
              "      <td>This Unfolds</td>\n",
              "      <td>There Is Love In You</td>\n",
              "      <td>Four Tet</td>\n",
              "      <td>2010</td>\n",
              "      <td>295</td>\n",
              "      <td>This Unfolds - Four Tet</td>\n",
              "      <td>2.76</td>\n",
              "    </tr>\n",
              "    <tr>\n",
              "      <th>375</th>\n",
              "      <td>5a905f000fc1ff3df7ca807d57edb608863db05d</td>\n",
              "      <td>SOBOJJB12A58A7D1AD</td>\n",
              "      <td>3</td>\n",
              "      <td>Korg Rhythm Afro</td>\n",
              "      <td>Holy Fuck</td>\n",
              "      <td>Holy Fuck</td>\n",
              "      <td>2005</td>\n",
              "      <td>297</td>\n",
              "      <td>Korg Rhythm Afro - Holy Fuck</td>\n",
              "      <td>4.76</td>\n",
              "    </tr>\n",
              "    <tr>\n",
              "      <th>595</th>\n",
              "      <td>5a905f000fc1ff3df7ca807d57edb608863db05d</td>\n",
              "      <td>SOPUUQJ12AF72A5748</td>\n",
              "      <td>2</td>\n",
              "      <td>Susie Q</td>\n",
              "      <td>Creedence Gold</td>\n",
              "      <td>Creedence Clearwater Revival</td>\n",
              "      <td>1979</td>\n",
              "      <td>298</td>\n",
              "      <td>Susie Q - Creedence Clearwater Revival</td>\n",
              "      <td>5.76</td>\n",
              "    </tr>\n",
              "  </tbody>\n",
              "</table>\n",
              "</div>"
            ],
            "text/plain": [
              "                                      user_id             song_id  \\\n",
              "705  5a905f000fc1ff3df7ca807d57edb608863db05d  SOWNVRT12AB0188CA6   \n",
              "537  5a905f000fc1ff3df7ca807d57edb608863db05d  SOMJFPG12A58A7DD95   \n",
              "387  5a905f000fc1ff3df7ca807d57edb608863db05d  SOCJHXN12AB0188C8B   \n",
              "375  5a905f000fc1ff3df7ca807d57edb608863db05d  SOBOJJB12A58A7D1AD   \n",
              "595  5a905f000fc1ff3df7ca807d57edb608863db05d  SOPUUQJ12AF72A5748   \n",
              "\n",
              "     listen_count                    title                      release  \\\n",
              "705             1  She Just Likes To Fight         There Is Love In You   \n",
              "537             2             Warning Sign  A Rush Of Blood To The Head   \n",
              "387             2             This Unfolds         There Is Love In You   \n",
              "375             3         Korg Rhythm Afro                    Holy Fuck   \n",
              "595             2                  Susie Q               Creedence Gold   \n",
              "\n",
              "                      artist_name  year  temperature  \\\n",
              "705                      Four Tet  2010          293   \n",
              "537                      Coldplay  2002          290   \n",
              "387                      Four Tet  2010          295   \n",
              "375                     Holy Fuck  2005          297   \n",
              "595  Creedence Clearwater Revival  1979          298   \n",
              "\n",
              "                                       song  dist  \n",
              "705      She Just Likes To Fight - Four Tet  0.76  \n",
              "537                 Warning Sign - Coldplay  2.24  \n",
              "387                 This Unfolds - Four Tet  2.76  \n",
              "375            Korg Rhythm Afro - Holy Fuck  4.76  \n",
              "595  Susie Q - Creedence Clearwater Revival  5.76  "
            ]
          },
          "execution_count": 33,
          "metadata": {},
          "output_type": "execute_result"
        }
      ],
      "source": [
        "# importing modules\n",
        "import requests, json\n",
        "import urllib.parse\n",
        "# API base URL\n",
        "BASE_URL = \"https://api.openweathermap.org/data/2.5/weather?\"\n",
        "\n",
        "# City Name\n",
        "CITY = \"New Delhi\"\n",
        "\n",
        "# Your API key\n",
        "API_KEY = \"67c92bc41548d686bf46131d3f0fa3bd\"\n",
        "\n",
        "# updating the URL\n",
        "URL = BASE_URL + \"q=\" + urllib.parse.quote(CITY) + \"&appid=\" + API_KEY\n",
        "# Sending HTTP request\n",
        "response = requests.get(URL)\n",
        "\n",
        "# checking the status code of the request\n",
        "if response.status_code == 200:\n",
        "   data = response.json()\n",
        "   main = data['main']\n",
        "   temperature = main['temp']\n",
        "   temp_feel_like = main['feels_like']  \n",
        "   humidity = main['humidity']\n",
        "   pressure = main['pressure']\n",
        "   weather_report = data['weather']\n",
        "   wind_report = data['wind']\n",
        "else:\n",
        "   # showing the error message\n",
        "   print(\"Error in the HTTP request\")\n",
        "\n",
        "df_f = pd.DataFrame(columns=[])\n",
        "\n",
        "for i in df_rec['song']:\n",
        "    df_f = df_f.append(song_df[song_df['song']==i])\n",
        "\n",
        "#Recommendation on the basis of Temperature\n",
        "print(temperature)\n",
        "df_f['dist'] = df_f['temperature'].apply(lambda x: abs(temperature-x))    \n",
        "df_f.sort_values(by=['dist'], ascending=True).head()"
      ]
    },
    {
      "cell_type": "markdown",
      "metadata": {
        "id": "VGds5QIR_6wd"
      },
      "source": [
        "# Quantitative comparison between the models\n",
        "## We now formally compare the popularity and the personalized models using precision-recall curves.\n"
      ]
    },
    {
      "cell_type": "markdown",
      "metadata": {
        "id": "ahGtjIWR_6wd"
      },
      "source": [
        "## Class to calculate precision and recall"
      ]
    },
    {
      "cell_type": "markdown",
      "metadata": {
        "id": "RfSWjyYb_6wd"
      },
      "source": [
        "#Evaluation.precision_recall_calculator"
      ]
    },
    {
      "cell_type": "markdown",
      "metadata": {
        "id": "CNlAJZww_6we"
      },
      "source": [
        "## Use the above precision recall calculator class to calculate the evaluation measures"
      ]
    },
    {
      "cell_type": "code",
      "execution_count": null,
      "metadata": {
        "id": "flqQ07tA_6we",
        "outputId": "75701466-0490-4f74-ec4e-36e7d5758b2f"
      },
      "outputs": [
        {
          "name": "stdout",
          "output_type": "stream",
          "text": [
            "Length of user_test_and_training:319\n",
            "Length of user sample:15\n",
            "Getting recommendations for user:66166f4f57bb897f1f8e2aae6f53f776088f43d8\n",
            "No. of unique songs for the user: 7\n",
            "no. of unique songs in the training set: 4483\n",
            "Non zero values in cooccurence_matrix :195\n",
            "Getting recommendations for user:45544491ccfcdc0b0803c34f201a6287ed4e30f8\n",
            "No. of unique songs for the user: 3\n",
            "no. of unique songs in the training set: 4483\n",
            "Non zero values in cooccurence_matrix :19\n",
            "Getting recommendations for user:9bb911319fbc04f01755814cb5edb21df3d1a336\n",
            "No. of unique songs for the user: 4\n",
            "no. of unique songs in the training set: 4483\n",
            "Non zero values in cooccurence_matrix :16\n",
            "Getting recommendations for user:39eb6b6dc155f96203daa8bc9cd7ea55dc25a7fd\n",
            "No. of unique songs for the user: 4\n",
            "no. of unique songs in the training set: 4483\n",
            "Non zero values in cooccurence_matrix :100\n",
            "Getting recommendations for user:66a0167a7c636b06efc39953aca127667beea260\n",
            "No. of unique songs for the user: 13\n",
            "no. of unique songs in the training set: 4483\n",
            "Non zero values in cooccurence_matrix :3891\n",
            "Getting recommendations for user:1645b689f873529ab85e3b72742be44813e82bd3\n",
            "No. of unique songs for the user: 13\n",
            "no. of unique songs in the training set: 4483\n",
            "Non zero values in cooccurence_matrix :5100\n",
            "Getting recommendations for user:07caa920795cd4f20bfeeb0e192a5ddd9566ecdd\n",
            "No. of unique songs for the user: 41\n",
            "no. of unique songs in the training set: 4483\n",
            "Non zero values in cooccurence_matrix :9414\n",
            "Getting recommendations for user:f84f5b5a5c5d1d9fb4866f6488e0d2661b54c192\n",
            "No. of unique songs for the user: 17\n",
            "no. of unique songs in the training set: 4483\n",
            "Non zero values in cooccurence_matrix :1578\n",
            "Getting recommendations for user:4273611413c7199a53ee116edc8d7b0ba56482d5\n",
            "No. of unique songs for the user: 14\n",
            "no. of unique songs in the training set: 4483\n",
            "Non zero values in cooccurence_matrix :648\n",
            "Getting recommendations for user:b61afb42335287239bd40e1dea50d849cbf8a9a9\n",
            "No. of unique songs for the user: 84\n",
            "no. of unique songs in the training set: 4483\n",
            "Non zero values in cooccurence_matrix :14283\n",
            "Getting recommendations for user:12a4a991c8b53cd6906995caed8b1f2bd3b6436a\n",
            "No. of unique songs for the user: 92\n",
            "no. of unique songs in the training set: 4483\n",
            "Non zero values in cooccurence_matrix :15341\n",
            "Getting recommendations for user:bd64f193f0f53f09d44ff48fd52830ff2fded392\n",
            "No. of unique songs for the user: 49\n",
            "no. of unique songs in the training set: 4483\n",
            "Non zero values in cooccurence_matrix :4792\n",
            "Getting recommendations for user:95773b3725a96464c85a5121d00f2566e6e8b69b\n",
            "No. of unique songs for the user: 24\n",
            "no. of unique songs in the training set: 4483\n",
            "Non zero values in cooccurence_matrix :5293\n",
            "Getting recommendations for user:5235516080c0ad60972e4f4ce72238697e4bbceb\n",
            "No. of unique songs for the user: 8\n",
            "no. of unique songs in the training set: 4483\n",
            "Non zero values in cooccurence_matrix :528\n",
            "Getting recommendations for user:5e161b9e14f303a0cef2d3f44d07dd946549f89f\n",
            "No. of unique songs for the user: 5\n",
            "no. of unique songs in the training set: 4483\n",
            "Non zero values in cooccurence_matrix :411\n",
            "251.9404172897339\n"
          ]
        }
      ],
      "source": [
        "start = time.time()\n",
        "\n",
        "#Define what percentage of users to use for precision recall calculation\n",
        "user_sample = 0.05\n",
        "\n",
        "#Instantiate the precision_recall_calculator class\n",
        "pr = Evaluation.precision_recall_calculator(test_data, train_data, pm, is_model)\n",
        "\n",
        "#Call method to calculate precision and recall values\n",
        "(pm_avg_precision_list, pm_avg_recall_list, ism_avg_precision_list, ism_avg_recall_list) = pr.calculate_measures(user_sample)\n",
        "\n",
        "end = time.time()\n",
        "print(end - start)"
      ]
    },
    {
      "cell_type": "markdown",
      "metadata": {
        "id": "6WMfvIi5_6we"
      },
      "source": [
        "## Code to plot precision recall curve"
      ]
    },
    {
      "cell_type": "code",
      "execution_count": null,
      "metadata": {
        "id": "HwIYo3c4_6wf"
      },
      "outputs": [],
      "source": [
        "import pylab as pl\n",
        "\n",
        "#Method to generate precision and recall curve\n",
        "def plot_precision_recall(m1_precision_list, m1_recall_list, m1_label, m2_precision_list, m2_recall_list, m2_label):\n",
        "    pl.clf()    \n",
        "    pl.plot(m1_recall_list, m1_precision_list, label=m1_label)\n",
        "    pl.plot(m2_recall_list, m2_precision_list, label=m2_label)\n",
        "    pl.xlabel('Recall')\n",
        "    pl.ylabel('Precision')\n",
        "    pl.ylim([0.0, 0.20])\n",
        "    pl.xlim([0.0, 0.20])\n",
        "    pl.title('Precision-Recall curve')\n",
        "    #pl.legend(loc=\"upper right\")\n",
        "    pl.legend(loc=9, bbox_to_anchor=(0.5, -0.2))\n",
        "    pl.show()\n"
      ]
    },
    {
      "cell_type": "code",
      "execution_count": null,
      "metadata": {
        "id": "rcTSms3q_6wf",
        "outputId": "b288ae04-53ee-46ca-bc3b-7b2c2458d4eb"
      },
      "outputs": [
        {
          "name": "stdout",
          "output_type": "stream",
          "text": [
            "Plotting precision recall curves.\n"
          ]
        },
        {
          "data": {
            "image/png": "[encoded data removed]",
            "text/plain": [
              "<Figure size 432x288 with 1 Axes>"
            ]
          },
          "metadata": {
            "needs_background": "light"
          },
          "output_type": "display_data"
        }
      ],
      "source": [
        "print(\"Plotting precision recall curves.\")\n",
        "\n",
        "plot_precision_recall(pm_avg_precision_list, pm_avg_recall_list, \"popularity_model\",\n",
        "                      ism_avg_precision_list, ism_avg_recall_list, \"item_similarity_model\")\n"
      ]
    },
    {
      "cell_type": "markdown",
      "metadata": {
        "id": "bdhojohX_6wf"
      },
      "source": [
        "### Generate Precision Recall curve using pickled results on a larger data subset"
      ]
    },
    {
      "cell_type": "code",
      "execution_count": null,
      "metadata": {
        "id": "9cbhGOQY_6wg",
        "outputId": "e1ef9528-982d-4058-bbcd-e5f3d7480ce9"
      },
      "outputs": [
        {
          "name": "stdout",
          "output_type": "stream",
          "text": [
            "Plotting precision recall curves for a larger subset of data (100,000 rows) (user sample = 0.005).\n",
            "Plotting precision recall curves.\n"
          ]
        },
        {
          "data": {
            "image/png": "[encoded data removed]",
            "text/plain": [
              "<Figure size 432x288 with 1 Axes>"
            ]
          },
          "metadata": {
            "needs_background": "light"
          },
          "output_type": "display_data"
        }
      ],
      "source": [
        "print(\"Plotting precision recall curves for a larger subset of data (100,000 rows) (user sample = 0.005).\")\n",
        "\n",
        "#Read the persisted files \n",
        "pm_avg_precision_list = joblib.load('pm_avg_precision_list_3.pkl')\n",
        "pm_avg_recall_list = joblib.load('pm_avg_recall_list_3.pkl')\n",
        "ism_avg_precision_list = joblib.load('ism_avg_precision_list_3.pkl')\n",
        "ism_avg_recall_list = joblib.load('ism_avg_recall_list_3.pkl')\n",
        "\n",
        "print(\"Plotting precision recall curves.\")\n",
        "plot_precision_recall(pm_avg_precision_list, pm_avg_recall_list, \"popularity_model\",\n",
        "                      ism_avg_precision_list, ism_avg_recall_list, \"item_similarity_model\")"
      ]
    },
    {
      "cell_type": "markdown",
      "metadata": {
        "id": "rQHJbITw_6wg"
      },
      "source": [
        "The curve shows that the personalized model provides much better performance over the popularity model. "
      ]
    },
    {
      "cell_type": "code",
      "execution_count": null,
      "metadata": {
        "id": "zfnmVX4l_6wg"
      },
      "outputs": [],
      "source": [
        ""
      ]
    },
    {
      "cell_type": "code",
      "execution_count": null,
      "metadata": {
        "id": "00seVNUy_6wh"
      },
      "outputs": [],
      "source": [
        ""
      ]
    },
    {
      "cell_type": "code",
      "execution_count": null,
      "metadata": {
        "id": "0exzDeOl_6wh"
      },
      "outputs": [],
      "source": [
        ""
      ]
    }
  ],
  "metadata": {
    "kernelspec": {
      "display_name": "Python 3 (ipykernel)",
      "language": "python",
      "name": "python3"
    },
    "language_info": {
      "codemirror_mode": {
        "name": "ipython",
        "version": 3
      },
      "file_extension": ".py",
      "mimetype": "text/x-python",
      "name": "python",
      "nbconvert_exporter": "python",
      "pygments_lexer": "ipython3",
      "version": "3.9.7"
    },
    "colab": {
      "name": "Music Recommendation System.ipynb",
      "provenance": [],
      "include_colab_link": true
    }
  },
  "nbformat": 4,
  "nbformat_minor": 0
}